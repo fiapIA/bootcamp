{
 "cells": [
  {
   "cell_type": "markdown",
   "metadata": {},
   "source": [
    "# Bootcamp FIAP - Turma 11IA\n",
    "\n",
    "### Integrantes:\n",
    "\n",
    "###    1) Fabio Rizzi - RM336656\n",
    "###    2) Jurandir Ventura - RM336634\n",
    "###    3) Marcelo Preto - RM336632\n",
    "###    4) Thiago Alexandre – RM336583"
   ]
  },
  {
   "cell_type": "markdown",
   "metadata": {},
   "source": [
    "## Desafio Bootcamp:\n",
    "\n",
    "### Analisar o dataset de atendimentos de manutenção da empresa VIVANTE no Hospital Metropolitano e trazer insights e soluções de Machine Learning ou Deep Learning para convergir com o objetivo da empresa em liderar o mercado de Facilities com tecnologias e conhecimento disruptivos."
   ]
  },
  {
   "cell_type": "code",
   "execution_count": 1,
   "metadata": {},
   "outputs": [],
   "source": [
    "#Importando as bibliotecas. Se houver algum erro, use \"pip install Libname\"\n",
    "import pandas as pd\n",
    "import seaborn as sb\n",
    "import numpy as np\n",
    "import pydotplus\n",
    "import graphviz\n",
    "from IPython.display import display\n",
    "import matplotlib.pyplot as plt\n",
    "from sklearn.tree import DecisionTreeClassifier\n",
    "from sklearn.model_selection import train_test_split\n",
    "from sklearn.model_selection import GridSearchCV\n",
    "from sklearn.metrics import confusion_matrix\n",
    "#from sklearn.externals.six import StringIO  \n",
    "from sklearn.tree import export_graphviz, plot_tree\n",
    "from sklearn.preprocessing import StandardScaler\n",
    "from sklearn.decomposition import PCA\n",
    "from sklearn.cluster import KMeans\n",
    "from sklearn.neighbors import KNeighborsClassifier\n",
    "from sklearn.metrics import classification_report, plot_confusion_matrix\n",
    "from sklearn.svm import SVC\n",
    "from sklearn.linear_model import LinearRegression\n",
    "from sklearn.metrics import mean_squared_error, r2_score, accuracy_score\n",
    "from sklearn.pipeline import make_pipeline\n",
    "from sklearn.svm import SVR\n",
    "from xgboost import XGBClassifier\n",
    "from sklearn.linear_model import ElasticNet\n",
    "from sklearn.linear_model import LogisticRegression"
   ]
  },
  {
   "cell_type": "code",
   "execution_count": 2,
   "metadata": {},
   "outputs": [
    {
     "data": {
      "text/html": [
       "<div>\n",
       "<style scoped>\n",
       "    .dataframe tbody tr th:only-of-type {\n",
       "        vertical-align: middle;\n",
       "    }\n",
       "\n",
       "    .dataframe tbody tr th {\n",
       "        vertical-align: top;\n",
       "    }\n",
       "\n",
       "    .dataframe thead th {\n",
       "        text-align: right;\n",
       "    }\n",
       "</style>\n",
       "<table border=\"1\" class=\"dataframe\">\n",
       "  <thead>\n",
       "    <tr style=\"text-align: right;\">\n",
       "      <th></th>\n",
       "      <th>Número OS</th>\n",
       "      <th>Denominação OS</th>\n",
       "      <th>Ativo</th>\n",
       "      <th>Descrição Ativo</th>\n",
       "      <th>Estado OS</th>\n",
       "      <th>Denominação Estado OS</th>\n",
       "      <th>Classe de Trabalho</th>\n",
       "      <th>Descrição Classe de Trabalho</th>\n",
       "      <th>Atividade</th>\n",
       "      <th>Descrição Atividade</th>\n",
       "      <th>...</th>\n",
       "      <th>Previsão 1º Atend.</th>\n",
       "      <th>Roteiro</th>\n",
       "      <th>Descrição Roteiro</th>\n",
       "      <th>Data Início Trabalho</th>\n",
       "      <th>Data Final Trabalho</th>\n",
       "      <th>Tempo Trabalho Feedback M.Obra</th>\n",
       "      <th>Tempo Trabalho Convertido</th>\n",
       "      <th>Técnico</th>\n",
       "      <th>nome_tecn</th>\n",
       "      <th>Tempo Previsto</th>\n",
       "    </tr>\n",
       "  </thead>\n",
       "  <tbody>\n",
       "    <tr>\n",
       "      <th>0</th>\n",
       "      <td>0</td>\n",
       "      <td>DDS (DIÁLOGO DIÁRIO DE SEGURANÇA)</td>\n",
       "      <td>HMBHPA1SSSRE03</td>\n",
       "      <td>SALA DE REUNIÃO VIVANTE</td>\n",
       "      <td>FC</td>\n",
       "      <td>Fechada</td>\n",
       "      <td>TRT</td>\n",
       "      <td>TREINAMENTO</td>\n",
       "      <td>TRT</td>\n",
       "      <td>TREINAMENTOS</td>\n",
       "      <td>...</td>\n",
       "      <td>2020-04-23 19:30:00</td>\n",
       "      <td>NaN</td>\n",
       "      <td>NaN</td>\n",
       "      <td>2020-04-23 19:31:00</td>\n",
       "      <td>2020-04-23 20:00:00</td>\n",
       "      <td>0.483333</td>\n",
       "      <td>00:29:00</td>\n",
       "      <td>VB221378</td>\n",
       "      <td>LEONARDO DO NASCIMENTO COSTA</td>\n",
       "      <td>3.0</td>\n",
       "    </tr>\n",
       "    <tr>\n",
       "      <th>1</th>\n",
       "      <td>204472</td>\n",
       "      <td>TREINAMENTO SEMESTRAL (QGBT'S - OPERAÇÃO E MAN...</td>\n",
       "      <td>HMEB-ELE.T004</td>\n",
       "      <td>TREINAMENTO SEMESTRAL (QGBT'S - OPERAÇÃO E MAN...</td>\n",
       "      <td>FC</td>\n",
       "      <td>Fechada</td>\n",
       "      <td>PRS</td>\n",
       "      <td>PREVENTIVA SISTEMÁTICA</td>\n",
       "      <td>TRT</td>\n",
       "      <td>TREINAMENTOS</td>\n",
       "      <td>...</td>\n",
       "      <td>2019-07-01 06:00:00</td>\n",
       "      <td>ELE.T004.06</td>\n",
       "      <td>TREINAMENTO SEMESTRAL (QGBT'S - OPERAÇÃO E MAN...</td>\n",
       "      <td>2020-01-01 06:00:00</td>\n",
       "      <td>2020-01-01 06:01:00</td>\n",
       "      <td>0.016667</td>\n",
       "      <td>00:01:00</td>\n",
       "      <td>VB225518</td>\n",
       "      <td>LUCAS LIMA RAMOS</td>\n",
       "      <td>NaN</td>\n",
       "    </tr>\n",
       "    <tr>\n",
       "      <th>2</th>\n",
       "      <td>215523</td>\n",
       "      <td>PIA VAZANDO</td>\n",
       "      <td>HMBHPA1PVWC014</td>\n",
       "      <td>SANITÁRIO FEMININO SALA DE AULA 01</td>\n",
       "      <td>FC</td>\n",
       "      <td>Fechada</td>\n",
       "      <td>COR</td>\n",
       "      <td>CORRETIVA EMERGÊNCIAL</td>\n",
       "      <td>HIDR</td>\n",
       "      <td>HIDRAULICA</td>\n",
       "      <td>...</td>\n",
       "      <td>2020-01-22 14:16:00</td>\n",
       "      <td>NaN</td>\n",
       "      <td>NaN</td>\n",
       "      <td>2020-01-22 13:52:00</td>\n",
       "      <td>2020-01-22 14:07:00</td>\n",
       "      <td>0.250000</td>\n",
       "      <td>00:15:00</td>\n",
       "      <td>vb104104</td>\n",
       "      <td>JOSELUCIO ROSA DE ANDRADE</td>\n",
       "      <td>3.0</td>\n",
       "    </tr>\n",
       "    <tr>\n",
       "      <th>3</th>\n",
       "      <td>215749</td>\n",
       "      <td>VERIFICAR EQUIPAMENTO</td>\n",
       "      <td>HMBHPA3PVCME01</td>\n",
       "      <td>ARSENAL CME</td>\n",
       "      <td>FC</td>\n",
       "      <td>Fechada</td>\n",
       "      <td>COR</td>\n",
       "      <td>CORRETIVA EMERGÊNCIAL</td>\n",
       "      <td>ENCL</td>\n",
       "      <td>ENGENHARIA CLÍNICA</td>\n",
       "      <td>...</td>\n",
       "      <td>2020-01-25 12:37:00</td>\n",
       "      <td>NaN</td>\n",
       "      <td>NaN</td>\n",
       "      <td>2020-01-25 10:46:00</td>\n",
       "      <td>2020-01-25 11:30:00</td>\n",
       "      <td>0.733333</td>\n",
       "      <td>00:44:00</td>\n",
       "      <td>VB220999</td>\n",
       "      <td>IVOMAR ROSSI CRUZ</td>\n",
       "      <td>3.0</td>\n",
       "    </tr>\n",
       "    <tr>\n",
       "      <th>4</th>\n",
       "      <td>247489</td>\n",
       "      <td>INTERVENÇAO CRITICA ENGENHARIA CLINICA ANUAL C...</td>\n",
       "      <td>1E01</td>\n",
       "      <td>ESFIGMOMANOMETRO DE PEDESTAL - 608902-N/A</td>\n",
       "      <td>FC</td>\n",
       "      <td>Fechada</td>\n",
       "      <td>PRS</td>\n",
       "      <td>PREVENTIVA SISTEMÁTICA</td>\n",
       "      <td>ENCL</td>\n",
       "      <td>ENGENHARIA CLÍNICA</td>\n",
       "      <td>...</td>\n",
       "      <td>2020-01-01 06:00:00</td>\n",
       "      <td>ICAANCALIB</td>\n",
       "      <td>INTERVENÇAO CRITICA ENGENHARIA CLINICA ANUAL C...</td>\n",
       "      <td>2020-01-06 14:06:00</td>\n",
       "      <td>2020-01-06 14:30:00</td>\n",
       "      <td>0.400000</td>\n",
       "      <td>00:24:00</td>\n",
       "      <td>VB217522</td>\n",
       "      <td>LUDMILA KAREN OLIVEIRA DE PAULA</td>\n",
       "      <td>4.0</td>\n",
       "    </tr>\n",
       "    <tr>\n",
       "      <th>5</th>\n",
       "      <td>247490</td>\n",
       "      <td>PREVENTIVA DE ENGENHARIA CLINICA  SEMESTRAL - ...</td>\n",
       "      <td>1E01</td>\n",
       "      <td>ESFIGMOMANOMETRO DE PEDESTAL - 608902-N/A</td>\n",
       "      <td>FC</td>\n",
       "      <td>Fechada</td>\n",
       "      <td>PRS</td>\n",
       "      <td>PREVENTIVA SISTEMÁTICA</td>\n",
       "      <td>ENCL</td>\n",
       "      <td>ENGENHARIA CLÍNICA</td>\n",
       "      <td>...</td>\n",
       "      <td>2020-01-01 06:00:00</td>\n",
       "      <td>PVNSMESFIG</td>\n",
       "      <td>PREVENTIVA DE ENGENHARIA CLINICA  SEMESTRAL - ...</td>\n",
       "      <td>2020-01-12 08:51:00</td>\n",
       "      <td>2020-01-12 09:35:00</td>\n",
       "      <td>0.733333</td>\n",
       "      <td>00:44:00</td>\n",
       "      <td>VB217522</td>\n",
       "      <td>LUDMILA KAREN OLIVEIRA DE PAULA</td>\n",
       "      <td>1.0</td>\n",
       "    </tr>\n",
       "    <tr>\n",
       "      <th>6</th>\n",
       "      <td>247491</td>\n",
       "      <td>INTERVENÇAO CRITICA ENGENHARIA CLINICA ANUAL C...</td>\n",
       "      <td>1E02</td>\n",
       "      <td>ESFIGMOMANOMETRO DE PEDESTAL - 611223-N/A</td>\n",
       "      <td>FC</td>\n",
       "      <td>Fechada</td>\n",
       "      <td>PRS</td>\n",
       "      <td>PREVENTIVA SISTEMÁTICA</td>\n",
       "      <td>ENCL</td>\n",
       "      <td>ENGENHARIA CLÍNICA</td>\n",
       "      <td>...</td>\n",
       "      <td>2020-01-01 06:00:00</td>\n",
       "      <td>ICAANCALIB</td>\n",
       "      <td>INTERVENÇAO CRITICA ENGENHARIA CLINICA ANUAL C...</td>\n",
       "      <td>2020-01-06 13:30:00</td>\n",
       "      <td>2020-01-06 13:45:00</td>\n",
       "      <td>0.250000</td>\n",
       "      <td>00:15:00</td>\n",
       "      <td>VB217522</td>\n",
       "      <td>LUDMILA KAREN OLIVEIRA DE PAULA</td>\n",
       "      <td>4.0</td>\n",
       "    </tr>\n",
       "    <tr>\n",
       "      <th>7</th>\n",
       "      <td>247492</td>\n",
       "      <td>PREVENTIVA DE ENGENHARIA CLINICA  SEMESTRAL - ...</td>\n",
       "      <td>1E02</td>\n",
       "      <td>ESFIGMOMANOMETRO DE PEDESTAL - 611223-N/A</td>\n",
       "      <td>FC</td>\n",
       "      <td>Fechada</td>\n",
       "      <td>PRS</td>\n",
       "      <td>PREVENTIVA SISTEMÁTICA</td>\n",
       "      <td>ENCL</td>\n",
       "      <td>ENGENHARIA CLÍNICA</td>\n",
       "      <td>...</td>\n",
       "      <td>2020-01-01 06:00:00</td>\n",
       "      <td>PVNSMESFIG</td>\n",
       "      <td>PREVENTIVA DE ENGENHARIA CLINICA  SEMESTRAL - ...</td>\n",
       "      <td>2020-01-12 09:36:00</td>\n",
       "      <td>2020-01-12 10:15:00</td>\n",
       "      <td>0.650000</td>\n",
       "      <td>00:39:00</td>\n",
       "      <td>VB217522</td>\n",
       "      <td>LUDMILA KAREN OLIVEIRA DE PAULA</td>\n",
       "      <td>1.0</td>\n",
       "    </tr>\n",
       "    <tr>\n",
       "      <th>8</th>\n",
       "      <td>247493</td>\n",
       "      <td>INTERVENÇAO CRITICA ENGENHARIA CLINICA ANUAL C...</td>\n",
       "      <td>1E03</td>\n",
       "      <td>ESFIGMOMANOMETRO DE PEDESTAL - 611127-N/A</td>\n",
       "      <td>FC</td>\n",
       "      <td>Fechada</td>\n",
       "      <td>PRS</td>\n",
       "      <td>PREVENTIVA SISTEMÁTICA</td>\n",
       "      <td>ENCL</td>\n",
       "      <td>ENGENHARIA CLÍNICA</td>\n",
       "      <td>...</td>\n",
       "      <td>2020-01-01 06:00:00</td>\n",
       "      <td>ICAANCALIB</td>\n",
       "      <td>INTERVENÇAO CRITICA ENGENHARIA CLINICA ANUAL C...</td>\n",
       "      <td>2020-01-06 13:46:00</td>\n",
       "      <td>2020-01-06 14:05:00</td>\n",
       "      <td>0.316667</td>\n",
       "      <td>00:19:00</td>\n",
       "      <td>VB217522</td>\n",
       "      <td>LUDMILA KAREN OLIVEIRA DE PAULA</td>\n",
       "      <td>4.0</td>\n",
       "    </tr>\n",
       "    <tr>\n",
       "      <th>9</th>\n",
       "      <td>247494</td>\n",
       "      <td>PREVENTIVA DE ENGENHARIA CLINICA  SEMESTRAL - ...</td>\n",
       "      <td>1E03</td>\n",
       "      <td>ESFIGMOMANOMETRO DE PEDESTAL - 611127-N/A</td>\n",
       "      <td>FC</td>\n",
       "      <td>Fechada</td>\n",
       "      <td>PRS</td>\n",
       "      <td>PREVENTIVA SISTEMÁTICA</td>\n",
       "      <td>ENCL</td>\n",
       "      <td>ENGENHARIA CLÍNICA</td>\n",
       "      <td>...</td>\n",
       "      <td>2020-01-01 06:00:00</td>\n",
       "      <td>PVNSMESFIG</td>\n",
       "      <td>PREVENTIVA DE ENGENHARIA CLINICA  SEMESTRAL - ...</td>\n",
       "      <td>2020-01-12 08:06:00</td>\n",
       "      <td>2020-01-12 08:50:00</td>\n",
       "      <td>0.733333</td>\n",
       "      <td>00:44:00</td>\n",
       "      <td>VB217522</td>\n",
       "      <td>LUDMILA KAREN OLIVEIRA DE PAULA</td>\n",
       "      <td>1.0</td>\n",
       "    </tr>\n",
       "    <tr>\n",
       "      <th>10</th>\n",
       "      <td>247495</td>\n",
       "      <td>INTERVENÇAO CRITICA ENGENHARIA CLINICA ANUAL C...</td>\n",
       "      <td>5N01</td>\n",
       "      <td>ESFIGMOMANOMETRO DE PEDESTAL - 608994-N/A</td>\n",
       "      <td>FC</td>\n",
       "      <td>Fechada</td>\n",
       "      <td>PRS</td>\n",
       "      <td>PREVENTIVA SISTEMÁTICA</td>\n",
       "      <td>ENCL</td>\n",
       "      <td>ENGENHARIA CLÍNICA</td>\n",
       "      <td>...</td>\n",
       "      <td>2020-01-01 06:00:00</td>\n",
       "      <td>ICAANCALIB</td>\n",
       "      <td>INTERVENÇAO CRITICA ENGENHARIA CLINICA ANUAL C...</td>\n",
       "      <td>2020-01-15 15:00:00</td>\n",
       "      <td>2020-01-15 15:20:00</td>\n",
       "      <td>0.333333</td>\n",
       "      <td>00:20:00</td>\n",
       "      <td>VB225277</td>\n",
       "      <td>MARCILIO OLIVEIRA DA ROCHA</td>\n",
       "      <td>4.0</td>\n",
       "    </tr>\n",
       "    <tr>\n",
       "      <th>11</th>\n",
       "      <td>247496</td>\n",
       "      <td>PREVENTIVA DE ENGENHARIA CLINICA  SEMESTRAL - ...</td>\n",
       "      <td>5N01</td>\n",
       "      <td>ESFIGMOMANOMETRO DE PEDESTAL - 608994-N/A</td>\n",
       "      <td>FC</td>\n",
       "      <td>Fechada</td>\n",
       "      <td>PRS</td>\n",
       "      <td>PREVENTIVA SISTEMÁTICA</td>\n",
       "      <td>ENCL</td>\n",
       "      <td>ENGENHARIA CLÍNICA</td>\n",
       "      <td>...</td>\n",
       "      <td>2020-01-01 06:00:00</td>\n",
       "      <td>PVNSMESFIG</td>\n",
       "      <td>PREVENTIVA DE ENGENHARIA CLINICA  SEMESTRAL - ...</td>\n",
       "      <td>2020-01-08 04:00:00</td>\n",
       "      <td>2020-01-08 05:00:00</td>\n",
       "      <td>1.000000</td>\n",
       "      <td>01:00:00</td>\n",
       "      <td>VB211709</td>\n",
       "      <td>GILSON CLAUDIO DA SILVA</td>\n",
       "      <td>1.0</td>\n",
       "    </tr>\n",
       "    <tr>\n",
       "      <th>12</th>\n",
       "      <td>247497</td>\n",
       "      <td>INTERVENÇAO CRITICA ENGENHARIA CLINICA ANUAL C...</td>\n",
       "      <td>5N03</td>\n",
       "      <td>ESFIGMOMANOMETRO DE PEDESTAL - 608832-N/A</td>\n",
       "      <td>FC</td>\n",
       "      <td>Fechada</td>\n",
       "      <td>PRS</td>\n",
       "      <td>PREVENTIVA SISTEMÁTICA</td>\n",
       "      <td>ENCL</td>\n",
       "      <td>ENGENHARIA CLÍNICA</td>\n",
       "      <td>...</td>\n",
       "      <td>2020-01-01 06:00:00</td>\n",
       "      <td>ICAANCALIB</td>\n",
       "      <td>INTERVENÇAO CRITICA ENGENHARIA CLINICA ANUAL C...</td>\n",
       "      <td>2020-01-15 15:20:00</td>\n",
       "      <td>2020-01-15 15:40:00</td>\n",
       "      <td>0.333333</td>\n",
       "      <td>00:20:00</td>\n",
       "      <td>VB225277</td>\n",
       "      <td>MARCILIO OLIVEIRA DA ROCHA</td>\n",
       "      <td>4.0</td>\n",
       "    </tr>\n",
       "    <tr>\n",
       "      <th>13</th>\n",
       "      <td>247498</td>\n",
       "      <td>PREVENTIVA DE ENGENHARIA CLINICA  SEMESTRAL - ...</td>\n",
       "      <td>5N03</td>\n",
       "      <td>ESFIGMOMANOMETRO DE PEDESTAL - 608832-N/A</td>\n",
       "      <td>FC</td>\n",
       "      <td>Fechada</td>\n",
       "      <td>PRS</td>\n",
       "      <td>PREVENTIVA SISTEMÁTICA</td>\n",
       "      <td>ENCL</td>\n",
       "      <td>ENGENHARIA CLÍNICA</td>\n",
       "      <td>...</td>\n",
       "      <td>2020-01-01 06:00:00</td>\n",
       "      <td>PVNSMESFIG</td>\n",
       "      <td>PREVENTIVA DE ENGENHARIA CLINICA  SEMESTRAL - ...</td>\n",
       "      <td>2020-01-16 16:02:00</td>\n",
       "      <td>2020-01-16 16:30:00</td>\n",
       "      <td>0.466667</td>\n",
       "      <td>00:28:00</td>\n",
       "      <td>VB225277</td>\n",
       "      <td>MARCILIO OLIVEIRA DA ROCHA</td>\n",
       "      <td>1.0</td>\n",
       "    </tr>\n",
       "    <tr>\n",
       "      <th>14</th>\n",
       "      <td>247499</td>\n",
       "      <td>INTERVENÇAO CRITICA ENGENHARIA CLINICA ANUAL C...</td>\n",
       "      <td>5N04</td>\n",
       "      <td>ESFIGMOMANOMETRO DE PEDESTAL - 609584-N/A</td>\n",
       "      <td>FC</td>\n",
       "      <td>Fechada</td>\n",
       "      <td>PRS</td>\n",
       "      <td>PREVENTIVA SISTEMÁTICA</td>\n",
       "      <td>ENCL</td>\n",
       "      <td>ENGENHARIA CLÍNICA</td>\n",
       "      <td>...</td>\n",
       "      <td>2020-01-01 06:00:00</td>\n",
       "      <td>ICAANCALIB</td>\n",
       "      <td>INTERVENÇAO CRITICA ENGENHARIA CLINICA ANUAL C...</td>\n",
       "      <td>2020-01-15 15:40:00</td>\n",
       "      <td>2020-01-15 16:00:00</td>\n",
       "      <td>0.333333</td>\n",
       "      <td>00:20:00</td>\n",
       "      <td>VB225277</td>\n",
       "      <td>MARCILIO OLIVEIRA DA ROCHA</td>\n",
       "      <td>4.0</td>\n",
       "    </tr>\n",
       "    <tr>\n",
       "      <th>15</th>\n",
       "      <td>247500</td>\n",
       "      <td>PREVENTIVA DE ENGENHARIA CLINICA  SEMESTRAL - ...</td>\n",
       "      <td>5N04</td>\n",
       "      <td>ESFIGMOMANOMETRO DE PEDESTAL - 609584-N/A</td>\n",
       "      <td>FC</td>\n",
       "      <td>Fechada</td>\n",
       "      <td>PRS</td>\n",
       "      <td>PREVENTIVA SISTEMÁTICA</td>\n",
       "      <td>ENCL</td>\n",
       "      <td>ENGENHARIA CLÍNICA</td>\n",
       "      <td>...</td>\n",
       "      <td>2020-01-01 06:00:00</td>\n",
       "      <td>PVNSMESFIG</td>\n",
       "      <td>PREVENTIVA DE ENGENHARIA CLINICA  SEMESTRAL - ...</td>\n",
       "      <td>2020-01-08 01:00:00</td>\n",
       "      <td>2020-01-08 02:00:00</td>\n",
       "      <td>1.000000</td>\n",
       "      <td>01:00:00</td>\n",
       "      <td>VB211709</td>\n",
       "      <td>GILSON CLAUDIO DA SILVA</td>\n",
       "      <td>1.0</td>\n",
       "    </tr>\n",
       "    <tr>\n",
       "      <th>16</th>\n",
       "      <td>247501</td>\n",
       "      <td>INTERVENÇAO CRITICA ENGENHARIA CLINICA ANUAL C...</td>\n",
       "      <td>5N05</td>\n",
       "      <td>ESFIGMOMANOMETRO DE PEDESTAL - 608929-N/A</td>\n",
       "      <td>FC</td>\n",
       "      <td>Fechada</td>\n",
       "      <td>PRS</td>\n",
       "      <td>PREVENTIVA SISTEMÁTICA</td>\n",
       "      <td>ENCL</td>\n",
       "      <td>ENGENHARIA CLÍNICA</td>\n",
       "      <td>...</td>\n",
       "      <td>2020-01-01 06:00:00</td>\n",
       "      <td>ICAANCALIB</td>\n",
       "      <td>INTERVENÇAO CRITICA ENGENHARIA CLINICA ANUAL C...</td>\n",
       "      <td>2020-01-15 16:00:00</td>\n",
       "      <td>2020-01-15 16:20:00</td>\n",
       "      <td>0.333333</td>\n",
       "      <td>00:20:00</td>\n",
       "      <td>VB225277</td>\n",
       "      <td>MARCILIO OLIVEIRA DA ROCHA</td>\n",
       "      <td>4.0</td>\n",
       "    </tr>\n",
       "    <tr>\n",
       "      <th>17</th>\n",
       "      <td>247502</td>\n",
       "      <td>PREVENTIVA DE ENGENHARIA CLINICA  SEMESTRAL - ...</td>\n",
       "      <td>5N05</td>\n",
       "      <td>ESFIGMOMANOMETRO DE PEDESTAL - 608929-N/A</td>\n",
       "      <td>FC</td>\n",
       "      <td>Fechada</td>\n",
       "      <td>PRS</td>\n",
       "      <td>PREVENTIVA SISTEMÁTICA</td>\n",
       "      <td>ENCL</td>\n",
       "      <td>ENGENHARIA CLÍNICA</td>\n",
       "      <td>...</td>\n",
       "      <td>2020-01-01 06:00:00</td>\n",
       "      <td>PVNSMESFIG</td>\n",
       "      <td>PREVENTIVA DE ENGENHARIA CLINICA  SEMESTRAL - ...</td>\n",
       "      <td>2020-01-18 00:15:00</td>\n",
       "      <td>2020-01-18 00:55:00</td>\n",
       "      <td>0.666667</td>\n",
       "      <td>00:40:00</td>\n",
       "      <td>VB211709</td>\n",
       "      <td>GILSON CLAUDIO DA SILVA</td>\n",
       "      <td>1.0</td>\n",
       "    </tr>\n",
       "    <tr>\n",
       "      <th>18</th>\n",
       "      <td>247503</td>\n",
       "      <td>INTERVENÇAO CRITICA ENGENHARIA CLINICA ANUAL C...</td>\n",
       "      <td>6N01</td>\n",
       "      <td>ESFIGMOMANOMETRO DE PEDESTAL - 611159-N/A</td>\n",
       "      <td>FC</td>\n",
       "      <td>Fechada</td>\n",
       "      <td>PRS</td>\n",
       "      <td>PREVENTIVA SISTEMÁTICA</td>\n",
       "      <td>ENCL</td>\n",
       "      <td>ENGENHARIA CLÍNICA</td>\n",
       "      <td>...</td>\n",
       "      <td>2020-01-01 06:00:00</td>\n",
       "      <td>ICAANCALIB</td>\n",
       "      <td>INTERVENÇAO CRITICA ENGENHARIA CLINICA ANUAL C...</td>\n",
       "      <td>2020-01-15 16:20:00</td>\n",
       "      <td>2020-01-15 16:40:00</td>\n",
       "      <td>0.333333</td>\n",
       "      <td>00:20:00</td>\n",
       "      <td>VB225277</td>\n",
       "      <td>MARCILIO OLIVEIRA DA ROCHA</td>\n",
       "      <td>4.0</td>\n",
       "    </tr>\n",
       "    <tr>\n",
       "      <th>19</th>\n",
       "      <td>247504</td>\n",
       "      <td>PREVENTIVA DE ENGENHARIA CLINICA  SEMESTRAL - ...</td>\n",
       "      <td>6N01</td>\n",
       "      <td>ESFIGMOMANOMETRO DE PEDESTAL - 611159-N/A</td>\n",
       "      <td>FC</td>\n",
       "      <td>Fechada</td>\n",
       "      <td>PRS</td>\n",
       "      <td>PREVENTIVA SISTEMÁTICA</td>\n",
       "      <td>ENCL</td>\n",
       "      <td>ENGENHARIA CLÍNICA</td>\n",
       "      <td>...</td>\n",
       "      <td>2020-01-01 06:00:00</td>\n",
       "      <td>PVNSMESFIG</td>\n",
       "      <td>PREVENTIVA DE ENGENHARIA CLINICA  SEMESTRAL - ...</td>\n",
       "      <td>2020-01-13 22:35:00</td>\n",
       "      <td>2020-01-13 23:30:00</td>\n",
       "      <td>0.916667</td>\n",
       "      <td>00:55:00</td>\n",
       "      <td>VB211709</td>\n",
       "      <td>GILSON CLAUDIO DA SILVA</td>\n",
       "      <td>1.0</td>\n",
       "    </tr>\n",
       "  </tbody>\n",
       "</table>\n",
       "<p>20 rows × 23 columns</p>\n",
       "</div>"
      ],
      "text/plain": [
       "    Número OS                                     Denominação OS  \\\n",
       "0           0                  DDS (DIÁLOGO DIÁRIO DE SEGURANÇA)   \n",
       "1      204472  TREINAMENTO SEMESTRAL (QGBT'S - OPERAÇÃO E MAN...   \n",
       "2      215523                                        PIA VAZANDO   \n",
       "3      215749                              VERIFICAR EQUIPAMENTO   \n",
       "4      247489  INTERVENÇAO CRITICA ENGENHARIA CLINICA ANUAL C...   \n",
       "5      247490  PREVENTIVA DE ENGENHARIA CLINICA  SEMESTRAL - ...   \n",
       "6      247491  INTERVENÇAO CRITICA ENGENHARIA CLINICA ANUAL C...   \n",
       "7      247492  PREVENTIVA DE ENGENHARIA CLINICA  SEMESTRAL - ...   \n",
       "8      247493  INTERVENÇAO CRITICA ENGENHARIA CLINICA ANUAL C...   \n",
       "9      247494  PREVENTIVA DE ENGENHARIA CLINICA  SEMESTRAL - ...   \n",
       "10     247495  INTERVENÇAO CRITICA ENGENHARIA CLINICA ANUAL C...   \n",
       "11     247496  PREVENTIVA DE ENGENHARIA CLINICA  SEMESTRAL - ...   \n",
       "12     247497  INTERVENÇAO CRITICA ENGENHARIA CLINICA ANUAL C...   \n",
       "13     247498  PREVENTIVA DE ENGENHARIA CLINICA  SEMESTRAL - ...   \n",
       "14     247499  INTERVENÇAO CRITICA ENGENHARIA CLINICA ANUAL C...   \n",
       "15     247500  PREVENTIVA DE ENGENHARIA CLINICA  SEMESTRAL - ...   \n",
       "16     247501  INTERVENÇAO CRITICA ENGENHARIA CLINICA ANUAL C...   \n",
       "17     247502  PREVENTIVA DE ENGENHARIA CLINICA  SEMESTRAL - ...   \n",
       "18     247503  INTERVENÇAO CRITICA ENGENHARIA CLINICA ANUAL C...   \n",
       "19     247504  PREVENTIVA DE ENGENHARIA CLINICA  SEMESTRAL - ...   \n",
       "\n",
       "             Ativo                                    Descrição Ativo  \\\n",
       "0   HMBHPA1SSSRE03                            SALA DE REUNIÃO VIVANTE   \n",
       "1    HMEB-ELE.T004  TREINAMENTO SEMESTRAL (QGBT'S - OPERAÇÃO E MAN...   \n",
       "2   HMBHPA1PVWC014                 SANITÁRIO FEMININO SALA DE AULA 01   \n",
       "3   HMBHPA3PVCME01                                        ARSENAL CME   \n",
       "4             1E01          ESFIGMOMANOMETRO DE PEDESTAL - 608902-N/A   \n",
       "5             1E01          ESFIGMOMANOMETRO DE PEDESTAL - 608902-N/A   \n",
       "6             1E02          ESFIGMOMANOMETRO DE PEDESTAL - 611223-N/A   \n",
       "7             1E02          ESFIGMOMANOMETRO DE PEDESTAL - 611223-N/A   \n",
       "8             1E03          ESFIGMOMANOMETRO DE PEDESTAL - 611127-N/A   \n",
       "9             1E03          ESFIGMOMANOMETRO DE PEDESTAL - 611127-N/A   \n",
       "10            5N01          ESFIGMOMANOMETRO DE PEDESTAL - 608994-N/A   \n",
       "11            5N01          ESFIGMOMANOMETRO DE PEDESTAL - 608994-N/A   \n",
       "12            5N03          ESFIGMOMANOMETRO DE PEDESTAL - 608832-N/A   \n",
       "13            5N03          ESFIGMOMANOMETRO DE PEDESTAL - 608832-N/A   \n",
       "14            5N04          ESFIGMOMANOMETRO DE PEDESTAL - 609584-N/A   \n",
       "15            5N04          ESFIGMOMANOMETRO DE PEDESTAL - 609584-N/A   \n",
       "16            5N05          ESFIGMOMANOMETRO DE PEDESTAL - 608929-N/A   \n",
       "17            5N05          ESFIGMOMANOMETRO DE PEDESTAL - 608929-N/A   \n",
       "18            6N01          ESFIGMOMANOMETRO DE PEDESTAL - 611159-N/A   \n",
       "19            6N01          ESFIGMOMANOMETRO DE PEDESTAL - 611159-N/A   \n",
       "\n",
       "   Estado OS Denominação Estado OS Classe de Trabalho  \\\n",
       "0         FC               Fechada                TRT   \n",
       "1         FC               Fechada                PRS   \n",
       "2         FC               Fechada                COR   \n",
       "3         FC               Fechada                COR   \n",
       "4         FC               Fechada                PRS   \n",
       "5         FC               Fechada                PRS   \n",
       "6         FC               Fechada                PRS   \n",
       "7         FC               Fechada                PRS   \n",
       "8         FC               Fechada                PRS   \n",
       "9         FC               Fechada                PRS   \n",
       "10        FC               Fechada                PRS   \n",
       "11        FC               Fechada                PRS   \n",
       "12        FC               Fechada                PRS   \n",
       "13        FC               Fechada                PRS   \n",
       "14        FC               Fechada                PRS   \n",
       "15        FC               Fechada                PRS   \n",
       "16        FC               Fechada                PRS   \n",
       "17        FC               Fechada                PRS   \n",
       "18        FC               Fechada                PRS   \n",
       "19        FC               Fechada                PRS   \n",
       "\n",
       "   Descrição Classe de Trabalho Atividade Descrição Atividade  ...  \\\n",
       "0                   TREINAMENTO       TRT        TREINAMENTOS  ...   \n",
       "1        PREVENTIVA SISTEMÁTICA       TRT        TREINAMENTOS  ...   \n",
       "2         CORRETIVA EMERGÊNCIAL      HIDR          HIDRAULICA  ...   \n",
       "3         CORRETIVA EMERGÊNCIAL      ENCL  ENGENHARIA CLÍNICA  ...   \n",
       "4        PREVENTIVA SISTEMÁTICA      ENCL  ENGENHARIA CLÍNICA  ...   \n",
       "5        PREVENTIVA SISTEMÁTICA      ENCL  ENGENHARIA CLÍNICA  ...   \n",
       "6        PREVENTIVA SISTEMÁTICA      ENCL  ENGENHARIA CLÍNICA  ...   \n",
       "7        PREVENTIVA SISTEMÁTICA      ENCL  ENGENHARIA CLÍNICA  ...   \n",
       "8        PREVENTIVA SISTEMÁTICA      ENCL  ENGENHARIA CLÍNICA  ...   \n",
       "9        PREVENTIVA SISTEMÁTICA      ENCL  ENGENHARIA CLÍNICA  ...   \n",
       "10       PREVENTIVA SISTEMÁTICA      ENCL  ENGENHARIA CLÍNICA  ...   \n",
       "11       PREVENTIVA SISTEMÁTICA      ENCL  ENGENHARIA CLÍNICA  ...   \n",
       "12       PREVENTIVA SISTEMÁTICA      ENCL  ENGENHARIA CLÍNICA  ...   \n",
       "13       PREVENTIVA SISTEMÁTICA      ENCL  ENGENHARIA CLÍNICA  ...   \n",
       "14       PREVENTIVA SISTEMÁTICA      ENCL  ENGENHARIA CLÍNICA  ...   \n",
       "15       PREVENTIVA SISTEMÁTICA      ENCL  ENGENHARIA CLÍNICA  ...   \n",
       "16       PREVENTIVA SISTEMÁTICA      ENCL  ENGENHARIA CLÍNICA  ...   \n",
       "17       PREVENTIVA SISTEMÁTICA      ENCL  ENGENHARIA CLÍNICA  ...   \n",
       "18       PREVENTIVA SISTEMÁTICA      ENCL  ENGENHARIA CLÍNICA  ...   \n",
       "19       PREVENTIVA SISTEMÁTICA      ENCL  ENGENHARIA CLÍNICA  ...   \n",
       "\n",
       "    Previsão 1º Atend.      Roteiro  \\\n",
       "0  2020-04-23 19:30:00          NaN   \n",
       "1  2019-07-01 06:00:00  ELE.T004.06   \n",
       "2  2020-01-22 14:16:00          NaN   \n",
       "3  2020-01-25 12:37:00          NaN   \n",
       "4  2020-01-01 06:00:00   ICAANCALIB   \n",
       "5  2020-01-01 06:00:00   PVNSMESFIG   \n",
       "6  2020-01-01 06:00:00   ICAANCALIB   \n",
       "7  2020-01-01 06:00:00   PVNSMESFIG   \n",
       "8  2020-01-01 06:00:00   ICAANCALIB   \n",
       "9  2020-01-01 06:00:00   PVNSMESFIG   \n",
       "10 2020-01-01 06:00:00   ICAANCALIB   \n",
       "11 2020-01-01 06:00:00   PVNSMESFIG   \n",
       "12 2020-01-01 06:00:00   ICAANCALIB   \n",
       "13 2020-01-01 06:00:00   PVNSMESFIG   \n",
       "14 2020-01-01 06:00:00   ICAANCALIB   \n",
       "15 2020-01-01 06:00:00   PVNSMESFIG   \n",
       "16 2020-01-01 06:00:00   ICAANCALIB   \n",
       "17 2020-01-01 06:00:00   PVNSMESFIG   \n",
       "18 2020-01-01 06:00:00   ICAANCALIB   \n",
       "19 2020-01-01 06:00:00   PVNSMESFIG   \n",
       "\n",
       "                                    Descrição Roteiro Data Início Trabalho  \\\n",
       "0                                                 NaN  2020-04-23 19:31:00   \n",
       "1   TREINAMENTO SEMESTRAL (QGBT'S - OPERAÇÃO E MAN...  2020-01-01 06:00:00   \n",
       "2                                                 NaN  2020-01-22 13:52:00   \n",
       "3                                                 NaN  2020-01-25 10:46:00   \n",
       "4   INTERVENÇAO CRITICA ENGENHARIA CLINICA ANUAL C...  2020-01-06 14:06:00   \n",
       "5   PREVENTIVA DE ENGENHARIA CLINICA  SEMESTRAL - ...  2020-01-12 08:51:00   \n",
       "6   INTERVENÇAO CRITICA ENGENHARIA CLINICA ANUAL C...  2020-01-06 13:30:00   \n",
       "7   PREVENTIVA DE ENGENHARIA CLINICA  SEMESTRAL - ...  2020-01-12 09:36:00   \n",
       "8   INTERVENÇAO CRITICA ENGENHARIA CLINICA ANUAL C...  2020-01-06 13:46:00   \n",
       "9   PREVENTIVA DE ENGENHARIA CLINICA  SEMESTRAL - ...  2020-01-12 08:06:00   \n",
       "10  INTERVENÇAO CRITICA ENGENHARIA CLINICA ANUAL C...  2020-01-15 15:00:00   \n",
       "11  PREVENTIVA DE ENGENHARIA CLINICA  SEMESTRAL - ...  2020-01-08 04:00:00   \n",
       "12  INTERVENÇAO CRITICA ENGENHARIA CLINICA ANUAL C...  2020-01-15 15:20:00   \n",
       "13  PREVENTIVA DE ENGENHARIA CLINICA  SEMESTRAL - ...  2020-01-16 16:02:00   \n",
       "14  INTERVENÇAO CRITICA ENGENHARIA CLINICA ANUAL C...  2020-01-15 15:40:00   \n",
       "15  PREVENTIVA DE ENGENHARIA CLINICA  SEMESTRAL - ...  2020-01-08 01:00:00   \n",
       "16  INTERVENÇAO CRITICA ENGENHARIA CLINICA ANUAL C...  2020-01-15 16:00:00   \n",
       "17  PREVENTIVA DE ENGENHARIA CLINICA  SEMESTRAL - ...  2020-01-18 00:15:00   \n",
       "18  INTERVENÇAO CRITICA ENGENHARIA CLINICA ANUAL C...  2020-01-15 16:20:00   \n",
       "19  PREVENTIVA DE ENGENHARIA CLINICA  SEMESTRAL - ...  2020-01-13 22:35:00   \n",
       "\n",
       "   Data Final Trabalho Tempo Trabalho Feedback M.Obra  \\\n",
       "0  2020-04-23 20:00:00                       0.483333   \n",
       "1  2020-01-01 06:01:00                       0.016667   \n",
       "2  2020-01-22 14:07:00                       0.250000   \n",
       "3  2020-01-25 11:30:00                       0.733333   \n",
       "4  2020-01-06 14:30:00                       0.400000   \n",
       "5  2020-01-12 09:35:00                       0.733333   \n",
       "6  2020-01-06 13:45:00                       0.250000   \n",
       "7  2020-01-12 10:15:00                       0.650000   \n",
       "8  2020-01-06 14:05:00                       0.316667   \n",
       "9  2020-01-12 08:50:00                       0.733333   \n",
       "10 2020-01-15 15:20:00                       0.333333   \n",
       "11 2020-01-08 05:00:00                       1.000000   \n",
       "12 2020-01-15 15:40:00                       0.333333   \n",
       "13 2020-01-16 16:30:00                       0.466667   \n",
       "14 2020-01-15 16:00:00                       0.333333   \n",
       "15 2020-01-08 02:00:00                       1.000000   \n",
       "16 2020-01-15 16:20:00                       0.333333   \n",
       "17 2020-01-18 00:55:00                       0.666667   \n",
       "18 2020-01-15 16:40:00                       0.333333   \n",
       "19 2020-01-13 23:30:00                       0.916667   \n",
       "\n",
       "   Tempo Trabalho Convertido   Técnico                        nome_tecn  \\\n",
       "0                   00:29:00  VB221378     LEONARDO DO NASCIMENTO COSTA   \n",
       "1                   00:01:00  VB225518                 LUCAS LIMA RAMOS   \n",
       "2                   00:15:00  vb104104        JOSELUCIO ROSA DE ANDRADE   \n",
       "3                   00:44:00  VB220999                IVOMAR ROSSI CRUZ   \n",
       "4                   00:24:00  VB217522  LUDMILA KAREN OLIVEIRA DE PAULA   \n",
       "5                   00:44:00  VB217522  LUDMILA KAREN OLIVEIRA DE PAULA   \n",
       "6                   00:15:00  VB217522  LUDMILA KAREN OLIVEIRA DE PAULA   \n",
       "7                   00:39:00  VB217522  LUDMILA KAREN OLIVEIRA DE PAULA   \n",
       "8                   00:19:00  VB217522  LUDMILA KAREN OLIVEIRA DE PAULA   \n",
       "9                   00:44:00  VB217522  LUDMILA KAREN OLIVEIRA DE PAULA   \n",
       "10                  00:20:00  VB225277       MARCILIO OLIVEIRA DA ROCHA   \n",
       "11                  01:00:00  VB211709          GILSON CLAUDIO DA SILVA   \n",
       "12                  00:20:00  VB225277       MARCILIO OLIVEIRA DA ROCHA   \n",
       "13                  00:28:00  VB225277       MARCILIO OLIVEIRA DA ROCHA   \n",
       "14                  00:20:00  VB225277       MARCILIO OLIVEIRA DA ROCHA   \n",
       "15                  01:00:00  VB211709          GILSON CLAUDIO DA SILVA   \n",
       "16                  00:20:00  VB225277       MARCILIO OLIVEIRA DA ROCHA   \n",
       "17                  00:40:00  VB211709          GILSON CLAUDIO DA SILVA   \n",
       "18                  00:20:00  VB225277       MARCILIO OLIVEIRA DA ROCHA   \n",
       "19                  00:55:00  VB211709          GILSON CLAUDIO DA SILVA   \n",
       "\n",
       "   Tempo Previsto  \n",
       "0             3.0  \n",
       "1             NaN  \n",
       "2             3.0  \n",
       "3             3.0  \n",
       "4             4.0  \n",
       "5             1.0  \n",
       "6             4.0  \n",
       "7             1.0  \n",
       "8             4.0  \n",
       "9             1.0  \n",
       "10            4.0  \n",
       "11            1.0  \n",
       "12            4.0  \n",
       "13            1.0  \n",
       "14            4.0  \n",
       "15            1.0  \n",
       "16            4.0  \n",
       "17            1.0  \n",
       "18            4.0  \n",
       "19            1.0  \n",
       "\n",
       "[20 rows x 23 columns]"
      ]
     },
     "execution_count": 2,
     "metadata": {},
     "output_type": "execute_result"
    }
   ],
   "source": [
    "#Leitura do dataset .csv\n",
    "\n",
    "#Lembrar que a origem da dataset é uma variável.\n",
    "#Neste caso é proveniente da pasta de datasets do Github: https://github.com/fiapIA/bootcamp/dataset\n",
    "dataset = pd.read_excel('dataset/VIVANTE_DATASET_PIVOTADO_V1.xlsx')\n",
    "\n",
    "\n",
    "#Visualização das 20 primeiras linhas do dataset\n",
    "dataset.head(20)"
   ]
  },
  {
   "cell_type": "code",
   "execution_count": 3,
   "metadata": {},
   "outputs": [
    {
     "data": {
      "text/plain": [
       "(34106, 23)"
      ]
     },
     "execution_count": 3,
     "metadata": {},
     "output_type": "execute_result"
    }
   ],
   "source": [
    "# Analisando o tamanho do dataset\n",
    "dataset.shape"
   ]
  },
  {
   "cell_type": "code",
   "execution_count": 4,
   "metadata": {},
   "outputs": [
    {
     "name": "stdout",
     "output_type": "stream",
     "text": [
      "<class 'pandas.core.frame.DataFrame'>\n",
      "RangeIndex: 34106 entries, 0 to 34105\n",
      "Data columns (total 23 columns):\n",
      " #   Column                          Non-Null Count  Dtype         \n",
      "---  ------                          --------------  -----         \n",
      " 0   Número OS                       34106 non-null  int64         \n",
      " 1   Denominação OS                  34106 non-null  object        \n",
      " 2   Ativo                           34106 non-null  object        \n",
      " 3   Descrição Ativo                 34106 non-null  object        \n",
      " 4   Estado OS                       34106 non-null  object        \n",
      " 5   Denominação Estado OS           34106 non-null  object        \n",
      " 6   Classe de Trabalho              34106 non-null  object        \n",
      " 7   Descrição Classe de Trabalho    34106 non-null  object        \n",
      " 8   Atividade                       34106 non-null  object        \n",
      " 9   Descrição Atividade             34106 non-null  object        \n",
      " 10  Data da Criação                 34106 non-null  datetime64[ns]\n",
      " 11  Data/Hora Abertura              34106 non-null  datetime64[ns]\n",
      " 12  Data/Hora de Conclusão          33586 non-null  datetime64[ns]\n",
      " 13  Previsão 1º Atend.              34099 non-null  datetime64[ns]\n",
      " 14  Roteiro                         18696 non-null  object        \n",
      " 15  Descrição Roteiro               18696 non-null  object        \n",
      " 16  Data Início Trabalho            33616 non-null  datetime64[ns]\n",
      " 17  Data Final Trabalho             33616 non-null  datetime64[ns]\n",
      " 18  Tempo Trabalho Feedback M.Obra  33616 non-null  float64       \n",
      " 19  Tempo Trabalho Convertido       34106 non-null  object        \n",
      " 20  Técnico                         33616 non-null  object        \n",
      " 21  nome_tecn                       32971 non-null  object        \n",
      " 22  Tempo Previsto                  33289 non-null  float64       \n",
      "dtypes: datetime64[ns](6), float64(2), int64(1), object(14)\n",
      "memory usage: 6.0+ MB\n"
     ]
    }
   ],
   "source": [
    "# Visão geral dos dados (com DataType)\n",
    "dataset.info()"
   ]
  },
  {
   "cell_type": "markdown",
   "metadata": {},
   "source": [
    "## É possível verificar que temos várias colunas do tipo 'object'. Algumas, de acordo com o dicionário disponibilizado são categóricos. Vamos analisar o nome_tecn (Nome do Técnico) e a Descrição Classe de Trabalho."
   ]
  },
  {
   "cell_type": "code",
   "execution_count": 5,
   "metadata": {},
   "outputs": [
    {
     "data": {
      "text/plain": [
       "nome_tecn\n",
       "ADENILSON MOREIRA VAZ                      438\n",
       "AILSON LIMA DOS SANTOS                     195\n",
       "ALEXANDRE ANTONIO DOS REIS                 294\n",
       "ALEXSANDRO DA COSTA                       1613\n",
       "ANDERSON NASÁRO DA SILVA                    56\n",
       "ANTONIO LOPES DA SILVA                     462\n",
       "ANTONIO LUIZ DA ROCHA                     1069\n",
       "AVELINO PEREIRA DE MORAIS                  172\n",
       "CAIO CESAR WENCESLAU                       760\n",
       "CARLOS ANTONIO                             740\n",
       "CEZAR LUCAS SILVA DE OLIVEIRA             1199\n",
       "DAVID BRENO BRAGA                          400\n",
       "DENER SILVEIRA RODRIGUES                   324\n",
       "EDER EDUARDO FERREIRA                      654\n",
       "EDINALDO VIANA                             164\n",
       "ELIZEU DOS SANTOS JUNIOR                   835\n",
       "EULER ANDRADE                              649\n",
       "EXPEDITO SILVA CAMPOS JUNIOR              1070\n",
       "FILIPE HENRIQUE DOS SANTOS                 145\n",
       "GILSON CLAUDIO DA SILVA                    735\n",
       "HUGO LEONARDO DE SANTANA                   425\n",
       "ISAQUE BRUNO FLORA DA SILVA                248\n",
       "ITALO LINEU SILVEIRA RODRIGUES             136\n",
       "IVOMAR ROSSI CRUZ                          535\n",
       "JESSICA DANIELLY DE CARVALHO               860\n",
       "JOAO BOSCO RODRIGUES                       273\n",
       "JOSE ANTONIO DE LIMA                       156\n",
       "JOSE MARIA GONÇALVES FILHO                 130\n",
       "JOSELUCIO ROSA DE ANDRADE                 1153\n",
       "JOSÉ CARLOS SILVA                           58\n",
       "JOSÉ JACKSON CAVALCANTE JACINTO           1013\n",
       "JOYCE DE FRANÇA FONSECA                     18\n",
       "JOZIAS FERREIA DE ARRUDA                   352\n",
       "LEONARDO DE OLIVEIRA BESSA                 264\n",
       "LEONARDO DO NASCIMENTO COSTA               977\n",
       "LEONARDO GONÇALVES DE ALMEIDA              789\n",
       "LUCAS LIMA RAMOS                          1248\n",
       "LUDMILA KAREN OLIVEIRA DE PAULA           1091\n",
       "MARCILIO OLIVEIRA DA ROCHA                 913\n",
       "MARCIO ROBERTO DO ESPIRITO SANTO          1194\n",
       "MARISTELA PAOLA DUARTE                     116\n",
       "MATHEUS FILIPE BRAGA MEDEIROS             1198\n",
       "MAYGSON MYLLER MOREIRA                     953\n",
       "MISSIA COELHO PAZ                           32\n",
       "MOISES FRANCISCO DE SOUZA                  105\n",
       "PABLO ARAUJO ROCHA                          26\n",
       "PEDRO HENRIQUE SANTOS SILVA                355\n",
       "RAFAEL MENDES ALVES CAIXETA                751\n",
       "RAFAEL TANCREDO MACHADO                     22\n",
       "REGINALDO LOURENCO RIBEIRO                1306\n",
       "SEBASTIÃO MARCELINO DE JESUS                78\n",
       "SERGIO PEREIRA DA SILVA                    494\n",
       "TIAGO VANDERLEY TEIXEIRA                   416\n",
       "TITO MAURICIO DE OLIVEIRA                  996\n",
       "VALDOMIRO DOS SANTOS GOMES                 588\n",
       "VALERIA ROSA DE SOUZA                      532\n",
       "WALLYSON GUILHERME RIBEIRO  DA FONSECA      10\n",
       "WANDERSON SILVA MEIRA                      235\n",
       "WEDERSON FERREIRA DE BRITO                 862\n",
       "WERMESON ALMEIDA BIAZINI                    89\n",
       "Name: nome_tecn, dtype: int64"
      ]
     },
     "execution_count": 5,
     "metadata": {},
     "output_type": "execute_result"
    }
   ],
   "source": [
    "#Agrupando os valores dessa coluna, para entender se são categóricos.\n",
    "\n",
    "dataset.groupby(['nome_tecn'])['nome_tecn'].count()"
   ]
  },
  {
   "cell_type": "code",
   "execution_count": 6,
   "metadata": {},
   "outputs": [
    {
     "data": {
      "text/plain": [
       "Descrição Classe de Trabalho\n",
       "ATENDIMENTO DE SOLICITAÇÕES      531\n",
       "CHAMADO                            6\n",
       "CORRETIVA EMERGÊNCIAL           9707\n",
       "CORRETIVA PROGRAMADA            2306\n",
       "INSTALAÇÃO                         1\n",
       "OBRA                              83\n",
       "PREVENTIVA PROATIVA                8\n",
       "PREVENTIVA SISTEMÁTICA         12789\n",
       "ROTINA DE INSPEÇÃO              6178\n",
       "TREINAMENTO                     2497\n",
       "Name: Descrição Classe de Trabalho, dtype: int64"
      ]
     },
     "execution_count": 6,
     "metadata": {},
     "output_type": "execute_result"
    }
   ],
   "source": [
    "dataset.groupby(['Descrição Classe de Trabalho'])['Descrição Classe de Trabalho'].count()"
   ]
  },
  {
   "cell_type": "code",
   "execution_count": null,
   "metadata": {},
   "outputs": [],
   "source": [
    "# Verificação de dados nulos\n",
    "dataset.isnull().sum()"
   ]
  },
  {
   "cell_type": "code",
   "execution_count": null,
   "metadata": {
    "colab": {},
    "colab_type": "code",
    "id": "juAbhwDFzAsf"
   },
   "outputs": [],
   "source": [
    "# Removendo dados nulos\n",
    "\n",
    "dataset.dropna(inplace=True)"
   ]
  },
  {
   "cell_type": "code",
   "execution_count": null,
   "metadata": {
    "colab": {
     "base_uri": "https://localhost:8080/",
     "height": 204
    },
    "colab_type": "code",
    "id": "Z4dbqjaEza5n",
    "outputId": "957e5b10-0778-46bc-bbdc-f57063664b5b"
   },
   "outputs": [],
   "source": [
    "#Confirmação de retirada dos dados nulos\n",
    "\n",
    "dataset.isnull().sum()"
   ]
  },
  {
   "cell_type": "markdown",
   "metadata": {
    "colab_type": "text",
    "id": "F7OVcaZIcdeJ"
   },
   "source": [
    "## Convertendo Dados Categóricos em Numéricos"
   ]
  },
  {
   "cell_type": "code",
   "execution_count": null,
   "metadata": {},
   "outputs": [],
   "source": [
    "#Converter dados categóricos em números.\n",
    "\n",
    "dataset['V6_NUM'] = pd.Categorical(dataset.V6).codes\n",
    "\n",
    "dataset.head()"
   ]
  },
  {
   "cell_type": "markdown",
   "metadata": {
    "colab_type": "text",
    "id": "iIgDEynXclTj"
   },
   "source": [
    "## Agora que temos uma nova coluna numérica V6_NUM para tratar a coluna categórica V6, podemos removê-la do Dataset"
   ]
  },
  {
   "cell_type": "code",
   "execution_count": null,
   "metadata": {
    "colab": {},
    "colab_type": "code",
    "id": "rDHhKO4XSuro"
   },
   "outputs": [],
   "source": [
    "dataset.drop(['V6'], axis=1, inplace=True)\n",
    "\n",
    "dataset.head()"
   ]
  },
  {
   "cell_type": "markdown",
   "metadata": {
    "colab_type": "text",
    "id": "TLu-lwmGGqeY"
   },
   "source": [
    "# Fazendo a Clusterização"
   ]
  },
  {
   "cell_type": "markdown",
   "metadata": {
    "colab_type": "text",
    "id": "xjrk8EqSHC7G"
   },
   "source": [
    "## Modelo K-Means"
   ]
  },
  {
   "cell_type": "markdown",
   "metadata": {
    "colab_type": "text",
    "id": "Xu-t0rD-GV2F"
   },
   "source": [
    "### Normalizando os dados"
   ]
  },
  {
   "cell_type": "code",
   "execution_count": null,
   "metadata": {
    "colab": {},
    "colab_type": "code",
    "id": "Ly9dq4PW1Dpt"
   },
   "outputs": [],
   "source": [
    "df_normalizacao = StandardScaler().fit_transform(dataset.iloc[:,:8])\n",
    "df_cluster = StandardScaler().fit_transform(df_normalizacao)"
   ]
  },
  {
   "cell_type": "code",
   "execution_count": null,
   "metadata": {
    "colab": {
     "base_uri": "https://localhost:8080/",
     "height": 238
    },
    "colab_type": "code",
    "id": "RZTVGa_f9wuq",
    "outputId": "dfa3a6ea-7cb2-4425-fe5c-aaab8dd25895"
   },
   "outputs": [],
   "source": [
    "df_cluster"
   ]
  },
  {
   "cell_type": "markdown",
   "metadata": {
    "colab_type": "text",
    "id": "9LWi7AxIGdbq"
   },
   "source": [
    "### Redução de dimensionalidade com PCA"
   ]
  },
  {
   "cell_type": "code",
   "execution_count": null,
   "metadata": {
    "colab": {},
    "colab_type": "code",
    "id": "_-m6neVR2CwN"
   },
   "outputs": [],
   "source": [
    "pca = PCA(n_components=2)\n",
    "\n",
    "PComponents = pca.fit_transform(df_cluster)\n",
    "\n",
    "#principalComponents.index = df_cluster.index\n",
    "\n",
    "maindataset = pd.DataFrame(data = PComponents,\n",
    "                           columns = ['PComp1', 'PComp2'])"
   ]
  },
  {
   "cell_type": "code",
   "execution_count": null,
   "metadata": {
    "colab": {
     "base_uri": "https://localhost:8080/",
     "height": 419
    },
    "colab_type": "code",
    "id": "AWMibKTw3E43",
    "outputId": "4c1f916b-2a17-4e79-eb30-2f57b97b2770"
   },
   "outputs": [],
   "source": [
    "maindataset.head()"
   ]
  },
  {
   "cell_type": "markdown",
   "metadata": {
    "colab_type": "text",
    "id": "5qD71T63GxYo"
   },
   "source": [
    "### Aplicação do Método Elbow para identificar a quantidade de clusters a ser utilizado"
   ]
  },
  {
   "cell_type": "code",
   "execution_count": null,
   "metadata": {
    "colab": {},
    "colab_type": "code",
    "id": "r2WbMBfE2Ytf"
   },
   "outputs": [],
   "source": [
    "inertias =[]\n",
    "for i in range(1, 30):\n",
    "    kmeans = KMeans(n_clusters = i, max_iter=500).fit(maindataset)    \n",
    "    #somatório dos erros quadráticos das instâncias de cada cluster\n",
    "    inertias.append(kmeans.inertia_)"
   ]
  },
  {
   "cell_type": "code",
   "execution_count": null,
   "metadata": {
    "colab": {
     "base_uri": "https://localhost:8080/",
     "height": 295
    },
    "colab_type": "code",
    "id": "VM6Ol6Td5KfN",
    "outputId": "e82ae42f-9163-4055-d4a8-f4e69934ec3f"
   },
   "outputs": [],
   "source": [
    "# Platando o método Elbow, para analisar o cotovelo e número de clusters\n",
    "\n",
    "plt.figure(1)\n",
    "plt.plot(range(1, 30), inertias)\n",
    "plt.title('Método Elbow')\n",
    "plt.xlabel('No de clusters')\n",
    "plt.ylabel('Soma Erro Quadrático')\n",
    "plt.show()"
   ]
  },
  {
   "cell_type": "markdown",
   "metadata": {},
   "source": [
    "## Esse método não foi possível analisar de forma direta o cotovelo na curva, indicando um score mais baixo e possivelmente não sendo o melhor modelo."
   ]
  },
  {
   "cell_type": "markdown",
   "metadata": {
    "colab_type": "text",
    "id": "7n2aCc5gHVcR"
   },
   "source": [
    "### Dessa forma, vamos usar o modelo K-Means"
   ]
  },
  {
   "cell_type": "code",
   "execution_count": null,
   "metadata": {
    "colab": {},
    "colab_type": "code",
    "id": "lNpVic6F3bY0"
   },
   "outputs": [],
   "source": [
    "# Clusterização com Kmeans\n",
    "\n",
    "kmeans = KMeans(n_clusters=5)\n",
    "kmeans.fit(maindataset)"
   ]
  },
  {
   "cell_type": "markdown",
   "metadata": {
    "colab_type": "text",
    "id": "36zY8wc5Hspu"
   },
   "source": [
    "### Agora incluímos o ID do Cluster no Dataset"
   ]
  },
  {
   "cell_type": "code",
   "execution_count": null,
   "metadata": {
    "colab": {},
    "colab_type": "code",
    "id": "CNaE1ss33eJS"
   },
   "outputs": [],
   "source": [
    "# Inclusão de ID no dataset\n",
    "\n",
    "maindataset['clusters'] = kmeans.labels_\n"
   ]
  },
  {
   "cell_type": "markdown",
   "metadata": {
    "colab_type": "text",
    "id": "CSGRIOJNHj38"
   },
   "source": [
    "### Plot dos dados (PCA) e os clusters identificados"
   ]
  },
  {
   "cell_type": "code",
   "execution_count": null,
   "metadata": {
    "colab": {
     "base_uri": "https://localhost:8080/",
     "height": 281
    },
    "colab_type": "code",
    "id": "XCc9JdBM3gDE",
    "outputId": "3536fa00-a575-4005-e85b-a8ac6073ec03"
   },
   "outputs": [],
   "source": [
    "fig, ax = plt.subplots()\n",
    "plt.scatter(maindataset['PComp1'],maindataset['PComp2'],c=maindataset.clusters, s=80)\n",
    "plt.scatter(kmeans.cluster_centers_[:,0],kmeans.cluster_centers_[:,1],s=100,c='black',label=\"Centroids\",marker='+')\n",
    "plt.title(\"K-Means - 4 clusters\")\n",
    "ax.legend()\n",
    "ax.grid(True)\n",
    "plt.show()"
   ]
  },
  {
   "cell_type": "code",
   "execution_count": null,
   "metadata": {
    "colab": {
     "base_uri": "https://localhost:8080/",
     "height": 419
    },
    "colab_type": "code",
    "id": "cTIPiz7JZtsG",
    "outputId": "592df19a-7cfd-4ef7-dcb6-8b7e104fa13d"
   },
   "outputs": [],
   "source": [
    "# Inclusão de ID no dataset original, para definição de alvo\n",
    "\n",
    "dataset['cluster'] = kmeans.labels_\n",
    "\n",
    "dataset.head()"
   ]
  },
  {
   "cell_type": "code",
   "execution_count": null,
   "metadata": {
    "colab": {},
    "colab_type": "code",
    "id": "xNvAJpkpmA7s"
   },
   "outputs": [],
   "source": [
    "dataset.groupby(['cluster'])['cluster'].count()"
   ]
  },
  {
   "cell_type": "markdown",
   "metadata": {
    "colab_type": "text",
    "id": "Qzv-xSygnMUz"
   },
   "source": [
    "### Há um cluster que tem volume muito pequeno de dados comparado aos demais (cluster 3)"
   ]
  },
  {
   "cell_type": "markdown",
   "metadata": {
    "colab_type": "text",
    "id": "NXndArsFc4u5"
   },
   "source": [
    "# Classificação"
   ]
  },
  {
   "cell_type": "markdown",
   "metadata": {
    "colab_type": "text",
    "id": "Wvg7CslHZ722"
   },
   "source": [
    "## Determinação de Features"
   ]
  },
  {
   "cell_type": "code",
   "execution_count": null,
   "metadata": {
    "colab": {
     "base_uri": "https://localhost:8080/",
     "height": 419
    },
    "colab_type": "code",
    "id": "Ci4btto_Z56w",
    "outputId": "372d1e85-1fe2-4b2b-80b8-be844221f6ed"
   },
   "outputs": [],
   "source": [
    "X = dataset.iloc[:,0:10]\n",
    "X"
   ]
  },
  {
   "cell_type": "markdown",
   "metadata": {
    "colab_type": "text",
    "id": "OkTufGAyalAf"
   },
   "source": [
    "## Determinação da variável Target"
   ]
  },
  {
   "cell_type": "code",
   "execution_count": null,
   "metadata": {
    "colab": {
     "base_uri": "https://localhost:8080/",
     "height": 221
    },
    "colab_type": "code",
    "id": "IzwGP660ammE",
    "outputId": "43ea5797-a080-4611-b580-4b56d245bfc8"
   },
   "outputs": [],
   "source": [
    "y = dataset['cluster']\n",
    "y.head(10)"
   ]
  },
  {
   "cell_type": "markdown",
   "metadata": {
    "colab_type": "text",
    "id": "wBAegEl0c6bd"
   },
   "source": [
    "## Definição da base de teste e de treino"
   ]
  },
  {
   "cell_type": "code",
   "execution_count": null,
   "metadata": {
    "colab": {},
    "colab_type": "code",
    "id": "JkVap5Qssvc_"
   },
   "outputs": [],
   "source": [
    "X_train, X_test, y_train, y_test = train_test_split(X, y, test_size= .3, random_state=42)"
   ]
  },
  {
   "cell_type": "markdown",
   "metadata": {
    "colab_type": "text",
    "id": "woU_9dSbdB_R"
   },
   "source": [
    "## Modelo de Árvore de Decisão "
   ]
  },
  {
   "cell_type": "code",
   "execution_count": null,
   "metadata": {
    "colab": {},
    "colab_type": "code",
    "id": "b5Al11GNwbZE"
   },
   "outputs": [],
   "source": [
    "model_tree = DecisionTreeClassifier(max_depth=7)\n",
    "model_tree.fit(X_train, y_train)\n",
    "y_pred_tree = model_tree.predict(X_test)"
   ]
  },
  {
   "cell_type": "markdown",
   "metadata": {
    "colab_type": "text",
    "id": "q2lI4cZydFan"
   },
   "source": [
    "### Resultado na plotagem de Matriz de Confusão"
   ]
  },
  {
   "cell_type": "code",
   "execution_count": null,
   "metadata": {
    "colab": {
     "base_uri": "https://localhost:8080/",
     "height": 500
    },
    "colab_type": "code",
    "id": "vrk4iJEQbwdb",
    "outputId": "59e3faaa-79d7-4ccb-ba7a-dc7e3b7dc511"
   },
   "outputs": [],
   "source": [
    "plot_confusion_matrix(model_tree, X_test, y_test, normalize = 'true')\n",
    "\n",
    "print(classification_report(y_test, y_pred_tree))\n",
    "print(accuracy_score(y_test, y_pred_tree))\n"
   ]
  },
  {
   "cell_type": "markdown",
   "metadata": {
    "colab_type": "text",
    "id": "8SzH51madIx5"
   },
   "source": [
    "## Plot da Árvore de decisão"
   ]
  },
  {
   "cell_type": "code",
   "execution_count": null,
   "metadata": {},
   "outputs": [],
   "source": [
    "import os\n",
    "os.environ['PATH'].split(os.pathsep)\n",
    "os.environ['PATH'] += os.pathsep + 'C:\\\\Program Files (x86)\\\\Graphviz2.38\\\\bin'\n",
    "\n",
    "\n",
    "display(\n",
    "    graphviz.Source(export_graphviz(\n",
    "        model_tree, \n",
    "        feature_names=dataset.columns.values[0:10],  \n",
    "        filled=True)))"
   ]
  },
  {
   "cell_type": "markdown",
   "metadata": {},
   "source": [
    "## Resultado não foi interessante, pois a Árvore é extremamente grande e complexa para analisar"
   ]
  },
  {
   "cell_type": "markdown",
   "metadata": {
    "colab_type": "text",
    "id": "kKwTNT4QEbIQ"
   },
   "source": [
    "## Modelo de KNN"
   ]
  },
  {
   "cell_type": "markdown",
   "metadata": {
    "colab_type": "text",
    "id": "z_fqf9rKEs-a"
   },
   "source": [
    "### Encontrando o valor ideal de k"
   ]
  },
  {
   "cell_type": "code",
   "execution_count": null,
   "metadata": {
    "colab": {
     "base_uri": "https://localhost:8080/",
     "height": 333
    },
    "colab_type": "code",
    "id": "jD7ULynAhN25",
    "outputId": "55a76e2e-ce81-439e-bfd3-cbea8cc459af"
   },
   "outputs": [],
   "source": [
    "k_range=range(1,40)\n",
    "scores=[]\n",
    "for k in k_range:\n",
    "    knn = KNeighborsClassifier(n_neighbors=k)\n",
    "    knn.fit(X_train, y_train)\n",
    "    y_pred_knn = knn.predict(X_test)\n",
    "    scores.append(accuracy_score(y_test, y_pred_knn))\n",
    "\n",
    "print(scores)\n",
    "#Plota os valores de acc. em função do valor escolhido de K\n",
    "plt.plot(k_range, scores)\n",
    "plt.xlabel('Value of K for KNN')\n",
    "plt.ylabel('Testing Accuracy')"
   ]
  },
  {
   "cell_type": "markdown",
   "metadata": {
    "colab_type": "text",
    "id": "NLYjR4IzExrd"
   },
   "source": [
    "### Treinando o modelo KNN"
   ]
  },
  {
   "cell_type": "code",
   "execution_count": null,
   "metadata": {
    "colab": {},
    "colab_type": "code",
    "id": "I80uOZpvhG0h"
   },
   "outputs": [],
   "source": [
    "model_KNN = KNeighborsClassifier(n_neighbors=7)\n",
    "\n",
    "model_KNN.fit(X_train, y_train)"
   ]
  },
  {
   "cell_type": "markdown",
   "metadata": {
    "colab_type": "text",
    "id": "UZJgPVGfE8A4"
   },
   "source": [
    "### Testando o modelo criado"
   ]
  },
  {
   "cell_type": "code",
   "execution_count": null,
   "metadata": {
    "colab": {},
    "colab_type": "code",
    "id": "j6ZkqJA-hd-m"
   },
   "outputs": [],
   "source": [
    "y_pred = model_KNN.predict(X_test)"
   ]
  },
  {
   "cell_type": "markdown",
   "metadata": {
    "colab_type": "text",
    "id": "5dyxjUWMFAll"
   },
   "source": [
    " ## Uso da Matriz de Confusão, baseado no modelo KNN"
   ]
  },
  {
   "cell_type": "code",
   "execution_count": null,
   "metadata": {
    "colab": {
     "base_uri": "https://localhost:8080/",
     "height": 500
    },
    "colab_type": "code",
    "id": "BZHy82sMhjes",
    "outputId": "3958f541-5dc4-4fa1-c67e-ba25e443a724"
   },
   "outputs": [],
   "source": [
    "plot_confusion_matrix(model_KNN, X_test, y_test, normalize = 'true')\n",
    "\n",
    "print(classification_report(y_test, y_pred_knn))\n",
    "print(accuracy_score(y_test, y_pred_knn))\n"
   ]
  },
  {
   "cell_type": "markdown",
   "metadata": {
    "colab_type": "text",
    "id": "knb0sX3MyyDi"
   },
   "source": [
    "## Modelo XGBOOST"
   ]
  },
  {
   "cell_type": "markdown",
   "metadata": {
    "colab_type": "text",
    "id": "JbuPIcuwFPCJ"
   },
   "source": [
    "### Treinando o Modelo XGBOOST"
   ]
  },
  {
   "cell_type": "code",
   "execution_count": null,
   "metadata": {
    "colab": {},
    "colab_type": "code",
    "id": "Hy9yOSRf9iYD"
   },
   "outputs": [],
   "source": [
    "model_xgboost = XGBClassifier()\n",
    "\n",
    "model_xgboost.fit(X_train, y_train)"
   ]
  },
  {
   "cell_type": "markdown",
   "metadata": {
    "colab_type": "text",
    "id": "G0OpZ0AWFTZv"
   },
   "source": [
    "### Testando o modelo XGBOOST"
   ]
  },
  {
   "cell_type": "code",
   "execution_count": null,
   "metadata": {
    "colab": {},
    "colab_type": "code",
    "id": "2dpJcwK2BzdR"
   },
   "outputs": [],
   "source": [
    "y_pred_xg = model_xgboost.predict(X_test)"
   ]
  },
  {
   "cell_type": "markdown",
   "metadata": {
    "colab_type": "text",
    "id": "XVT1QCYIFYVo"
   },
   "source": [
    "## Resultado do modelo XGBOOST"
   ]
  },
  {
   "cell_type": "code",
   "execution_count": null,
   "metadata": {
    "colab": {
     "base_uri": "https://localhost:8080/",
     "height": 500
    },
    "colab_type": "code",
    "id": "C2ShkwvHbjCy",
    "outputId": "f91d830a-4e6e-4531-b16a-2e7457e468af"
   },
   "outputs": [],
   "source": [
    "plot_confusion_matrix(model_xgboost, X_test, y_test, normalize = 'true')\n",
    "\n",
    "print(classification_report(y_test, y_pred_xg))\n",
    "print(accuracy_score(y_test, y_pred_xg))\n"
   ]
  },
  {
   "cell_type": "markdown",
   "metadata": {
    "colab_type": "text",
    "id": "ADoDtJW5isMd"
   },
   "source": [
    "## Análise Final Clusterização / Classificação:\n",
    "\n",
    "\n",
    "\n",
    "## Para a Classificação, o modelo XGBOOST apresentou o melhor resultado, atingindo a acurácia de 97%. Vale destacar que mesmo para o cluster que tem uma amostragem baixa o modelo se comportou melhor que os demais modelos.\n",
    "\n",
    "## Considerando o custo benefício do modelo, o XGBOOST teve performance equivalente aos demais e melhor acurácia e seria o melhor modelo para o caso 'secreto' :-)."
   ]
  },
  {
   "cell_type": "markdown",
   "metadata": {
    "colab_type": "text",
    "id": "Up4TF06JyAT0"
   },
   "source": [
    "# Etapa de Regressão, para predição do modelo baseado na coluna V2"
   ]
  },
  {
   "cell_type": "code",
   "execution_count": null,
   "metadata": {
    "colab": {},
    "colab_type": "code",
    "id": "HMLJoWx68Lrb"
   },
   "outputs": [],
   "source": [
    "# Retornando ao nosso dataset\n",
    "\n",
    "dataset.head()"
   ]
  },
  {
   "cell_type": "markdown",
   "metadata": {
    "colab_type": "text",
    "id": "kZlfxF0ldeGv"
   },
   "source": [
    "## Determinação de Features"
   ]
  },
  {
   "cell_type": "code",
   "execution_count": null,
   "metadata": {
    "colab": {},
    "colab_type": "code",
    "id": "Mp0f2RtL69fO"
   },
   "outputs": [],
   "source": [
    "X_reg = dataset.drop(['V2'], axis=1, inplace=False)"
   ]
  },
  {
   "cell_type": "markdown",
   "metadata": {
    "colab_type": "text",
    "id": "jm3L59eVeQDf"
   },
   "source": [
    "## Determinação de Target"
   ]
  },
  {
   "cell_type": "code",
   "execution_count": null,
   "metadata": {
    "colab": {},
    "colab_type": "code",
    "id": "iNHal4ri69T0"
   },
   "outputs": [],
   "source": [
    "y_reg = dataset['V2']"
   ]
  },
  {
   "cell_type": "markdown",
   "metadata": {
    "colab_type": "text",
    "id": "KEycXxREeUCk"
   },
   "source": [
    "## Separação de dados de treino e teste"
   ]
  },
  {
   "cell_type": "code",
   "execution_count": null,
   "metadata": {
    "colab": {},
    "colab_type": "code",
    "id": "BWBI6Jdj1Ln0"
   },
   "outputs": [],
   "source": [
    "X_train_reg, X_test_reg, y_train_reg, y_test_reg = train_test_split(X_reg, y_reg, test_size= .2, random_state=42)"
   ]
  },
  {
   "cell_type": "markdown",
   "metadata": {
    "colab_type": "text",
    "id": "MFmjRtf4ebWR"
   },
   "source": [
    "## Modelo SVR\n",
    "\n",
    "### O modelo SVR necessita de normalização dos dados. Aplicamos em pipeline."
   ]
  },
  {
   "cell_type": "markdown",
   "metadata": {
    "colab_type": "text",
    "id": "y1l6xIKGexK3"
   },
   "source": [
    "### Treinando o modelo SVR"
   ]
  },
  {
   "cell_type": "code",
   "execution_count": null,
   "metadata": {
    "colab": {
     "base_uri": "https://localhost:8080/",
     "height": 153
    },
    "colab_type": "code",
    "id": "_apyOsLLUHtm",
    "outputId": "0ebd1d97-15ed-4ed1-ea15-f0a4255a7d23"
   },
   "outputs": [],
   "source": [
    "model_SVR = make_pipeline(StandardScaler(), SVR())\n",
    "model_SVR.fit(X_train_reg, y_train_reg)"
   ]
  },
  {
   "cell_type": "markdown",
   "metadata": {
    "colab_type": "text",
    "id": "8u12Dei3e22i"
   },
   "source": [
    "### Testando o modelo SVR"
   ]
  },
  {
   "cell_type": "code",
   "execution_count": null,
   "metadata": {
    "colab": {},
    "colab_type": "code",
    "id": "ZklewvZWUsI6"
   },
   "outputs": [],
   "source": [
    "y_pred_svr = model_SVR.predict(X_test_reg)"
   ]
  },
  {
   "cell_type": "markdown",
   "metadata": {
    "colab_type": "text",
    "id": "-vz7IQiYe_lk"
   },
   "source": [
    "## Resultado SVR"
   ]
  },
  {
   "cell_type": "code",
   "execution_count": null,
   "metadata": {
    "colab": {
     "base_uri": "https://localhost:8080/",
     "height": 34
    },
    "colab_type": "code",
    "id": "Shh_Uc_w_9JA",
    "outputId": "8702105f-434b-4647-de69-9503927d9d08"
   },
   "outputs": [],
   "source": [
    "mse_SVR = mean_squared_error(y_test_reg, y_pred_svr)\n",
    "score_svr = model_SVR.score(X_test_reg, y_test_reg)\n",
    "mse = mean_squared_error(y_test_reg, y_pred_svr)\n",
    "print(\"R2:{0:.3f}, MSE:{1:.2f}, RMSE:{2:.2f}\"\n",
    "      .format(score_svr, mse, np.sqrt(mse)))"
   ]
  },
  {
   "cell_type": "markdown",
   "metadata": {
    "colab_type": "text",
    "id": "U_28Xy4IfJgc"
   },
   "source": [
    "## Modelo Regressão Linear"
   ]
  },
  {
   "cell_type": "markdown",
   "metadata": {
    "colab_type": "text",
    "id": "KOuXS7VBfPan"
   },
   "source": [
    "### Treinando o modelo de Regressão Linear"
   ]
  },
  {
   "cell_type": "code",
   "execution_count": null,
   "metadata": {
    "colab": {
     "base_uri": "https://localhost:8080/",
     "height": 34
    },
    "colab_type": "code",
    "id": "E4g9WMCixVWu",
    "outputId": "0a5e7458-365a-4c8e-d688-7d32f84d2d42"
   },
   "outputs": [],
   "source": [
    "model_Linear = LinearRegression()  \n",
    "model_Linear.fit(X_train_reg, y_train_reg) "
   ]
  },
  {
   "cell_type": "markdown",
   "metadata": {
    "colab_type": "text",
    "id": "brdEY62gfXB1"
   },
   "source": [
    "### Testando o modelo de Regressão Linear"
   ]
  },
  {
   "cell_type": "code",
   "execution_count": null,
   "metadata": {
    "colab": {},
    "colab_type": "code",
    "id": "C_S7STHA2Qph"
   },
   "outputs": [],
   "source": [
    "y_pred_Linear = model_Linear.predict(X_test_reg)"
   ]
  },
  {
   "cell_type": "markdown",
   "metadata": {
    "colab_type": "text",
    "id": "BH6csxlzffPb"
   },
   "source": [
    "## Resultado Regressão Linear"
   ]
  },
  {
   "cell_type": "code",
   "execution_count": null,
   "metadata": {
    "colab": {
     "base_uri": "https://localhost:8080/",
     "height": 34
    },
    "colab_type": "code",
    "id": "QqrRiZMk2MlC",
    "outputId": "4008c865-f7ee-4cad-a242-744687435acb"
   },
   "outputs": [],
   "source": [
    "mse_Linear = mean_squared_error(y_test_reg, y_pred_Linear)\n",
    "score_linear = model_Linear.score(X_test_reg, y_test_reg)\n",
    "mse = mean_squared_error(y_test_reg, y_pred_Linear)\n",
    "print(\"Resultado Regressão Linear: R2:{0:.7f}, MSE:{1:.2f}, RMSE:{2:.2f}\"\n",
    "      .format(score_linear, mse, np.sqrt(mse)))"
   ]
  },
  {
   "cell_type": "markdown",
   "metadata": {
    "colab_type": "text",
    "id": "DEicA_oxfj16"
   },
   "source": [
    "## Modelo ElasticNet"
   ]
  },
  {
   "cell_type": "markdown",
   "metadata": {
    "colab_type": "text",
    "id": "EU8QmEJ5gBp1"
   },
   "source": [
    "### Treinando o Modelo ElasticNet"
   ]
  },
  {
   "cell_type": "code",
   "execution_count": null,
   "metadata": {
    "colab": {
     "base_uri": "https://localhost:8080/",
     "height": 122
    },
    "colab_type": "code",
    "id": "j3hgNrBoQdtV",
    "outputId": "330913f3-3f7a-4e41-894a-422aa7a847a5"
   },
   "outputs": [],
   "source": [
    "model_elastic = ElasticNet(alpha=0.0001)\n",
    "model_elastic.fit(X_train_reg, y_train_reg)"
   ]
  },
  {
   "cell_type": "markdown",
   "metadata": {
    "colab_type": "text",
    "id": "JhQZWaNjgK-a"
   },
   "source": [
    "### Testando o modelo ElasticNet"
   ]
  },
  {
   "cell_type": "code",
   "execution_count": null,
   "metadata": {
    "colab": {},
    "colab_type": "code",
    "id": "PK1qJwWqgOkp"
   },
   "outputs": [],
   "source": [
    "y_pred_elastic = model_elastic.predict(X_test_reg)"
   ]
  },
  {
   "cell_type": "markdown",
   "metadata": {
    "colab_type": "text",
    "id": "v3qbiZjaglZj"
   },
   "source": [
    "## Resultado ElasticNet"
   ]
  },
  {
   "cell_type": "code",
   "execution_count": null,
   "metadata": {
    "colab": {
     "base_uri": "https://localhost:8080/",
     "height": 34
    },
    "colab_type": "code",
    "id": "1R0LPAjl9Np3",
    "outputId": "31623afe-eb6a-437e-d848-0eee4819a631"
   },
   "outputs": [],
   "source": [
    "\n",
    "score_elastic = model_elastic.score(X_test_reg, y_test_reg)\n",
    "mse_elastic = mean_squared_error(y_test_reg, y_pred_elastic)\n",
    "print(\"Resultado ElasticNet: R2:{0:.7f}, MSE:{1:.2f}, RMSE:{2:.2f}\"\n",
    "      .format(score_elastic, mse_elastic, np.sqrt(mse_elastic)))"
   ]
  },
  {
   "cell_type": "markdown",
   "metadata": {},
   "source": [
    "## Modelo Regressão Logística"
   ]
  },
  {
   "cell_type": "code",
   "execution_count": null,
   "metadata": {},
   "outputs": [],
   "source": [
    "model_logistic = LogisticRegression(max_iter = 500)\n",
    "model_logistic.fit(X_train_reg, y_train_reg)"
   ]
  },
  {
   "cell_type": "code",
   "execution_count": null,
   "metadata": {},
   "outputs": [],
   "source": [
    "y_pred_reglogistic = model_logistic.predict(X_test_reg)"
   ]
  },
  {
   "cell_type": "code",
   "execution_count": null,
   "metadata": {},
   "outputs": [],
   "source": [
    "score_reglogistic = model_logistic.score(X_test_reg, y_test_reg)\n",
    "mse_reglogistic = mean_squared_error(y_test_reg, y_pred_reglogistic)\n",
    "print(\"Resultado Regressão Logística: R2:{0:.7f}, MSE:{1:.2f}, RMSE:{2:.2f}\"\n",
    "      .format(score_reglogistic, mse_reglogistic, np.sqrt(mse_reglogistic)))"
   ]
  },
  {
   "cell_type": "markdown",
   "metadata": {
    "colab_type": "text",
    "id": "Q0wqGPV_lC7d"
   },
   "source": [
    "# Análise Final Regressão\n",
    "\n",
    "\n",
    "## Nos testes de Regressão, para predizer o valor de V2, utilizamos 3 modelos diferentes: SVR, Regressão Linear e ElasticNet. O modelo de Regressão Logística foi testado, mas não foi possível concluir o treinamento com até 500 iterações e foi descartado.\n",
    "\n",
    "### Os Modelos de SVR teve resultado baixo e não satisfatório.\n",
    "### Quando analisamos os melhores modelos: Regressão Linear e ElasticNET, temos resultados bem similares, porém com vantagem para Regressão Linear devido aos resultados e custo de processamento. O ElasticNet para conseguirmos um resultado melhor precisamos ajustar os parâmetros, aumentando o custo de treinamento. Nas simulações realizadas o melhor resultado foi igual ao resultado da Regressão Linear.\n",
    "\n",
    "## De modo geral, para este estudo de caso 'secreto', a Regressão Linear seria o melhor modelo para predizer dados provenientes da coluna V2.\n"
   ]
  },
  {
   "cell_type": "code",
   "execution_count": null,
   "metadata": {},
   "outputs": [],
   "source": []
  }
 ],
 "metadata": {
  "kernelspec": {
   "display_name": "Python 3",
   "language": "python",
   "name": "python3"
  },
  "language_info": {
   "codemirror_mode": {
    "name": "ipython",
    "version": 3
   },
   "file_extension": ".py",
   "mimetype": "text/x-python",
   "name": "python",
   "nbconvert_exporter": "python",
   "pygments_lexer": "ipython3",
   "version": "3.7.9"
  }
 },
 "nbformat": 4,
 "nbformat_minor": 4
}
