{
 "cells": [
  {
   "cell_type": "markdown",
   "metadata": {},
   "source": [
    "# Bootcamp FIAP - Turma 11IA\n",
    "\n",
    "### Integrantes:\n",
    "\n",
    "###    1) Fabio Rizzi - RM336656\n",
    "###    2) Jurandir Ventura - RM336634\n",
    "###    3) Marcelo Preto - RM336632\n",
    "###    4) Thiago Alexandre – RM336583"
   ]
  },
  {
   "cell_type": "markdown",
   "metadata": {},
   "source": [
    "## Desafio Bootcamp:\n",
    "\n",
    "### Analisar o dataset de atendimentos de manutenção da empresa VIVANTE no Hospital Metropolitano e trazer insights e soluções de Machine Learning ou Deep Learning para convergir com o objetivo da empresa em liderar o mercado de Facilities com tecnologias e conhecimento disruptivos."
   ]
  },
  {
   "cell_type": "code",
   "execution_count": 1,
   "metadata": {},
   "outputs": [],
   "source": [
    "#Importando as bibliotecas. Se houver algum erro, use \"pip install Libname\"\n",
    "import pandas as pd\n",
    "import seaborn as sb\n",
    "import numpy as np\n",
    "import pydotplus\n",
    "import graphviz\n",
    "from IPython.display import display\n",
    "import matplotlib.pyplot as plt\n",
    "from sklearn.tree import DecisionTreeClassifier\n",
    "from sklearn.model_selection import train_test_split\n",
    "from sklearn.model_selection import GridSearchCV\n",
    "from sklearn.metrics import confusion_matrix\n",
    "#from sklearn.externals.six import StringIO  \n",
    "from sklearn.tree import export_graphviz, plot_tree\n",
    "from sklearn.preprocessing import StandardScaler\n",
    "from sklearn.decomposition import PCA\n",
    "from sklearn.cluster import KMeans\n",
    "from sklearn.neighbors import KNeighborsClassifier\n",
    "from sklearn.metrics import classification_report, plot_confusion_matrix\n",
    "from sklearn.svm import SVC\n",
    "from sklearn.linear_model import LinearRegression\n",
    "from sklearn.metrics import mean_squared_error, r2_score, accuracy_score\n",
    "from sklearn.pipeline import make_pipeline\n",
    "from sklearn.svm import SVR\n",
    "from xgboost import XGBClassifier\n",
    "from sklearn.linear_model import ElasticNet\n",
    "from sklearn.linear_model import LogisticRegression"
   ]
  },
  {
   "cell_type": "code",
   "execution_count": 2,
   "metadata": {},
   "outputs": [
    {
     "data": {
      "text/html": [
       "<div>\n",
       "<style scoped>\n",
       "    .dataframe tbody tr th:only-of-type {\n",
       "        vertical-align: middle;\n",
       "    }\n",
       "\n",
       "    .dataframe tbody tr th {\n",
       "        vertical-align: top;\n",
       "    }\n",
       "\n",
       "    .dataframe thead th {\n",
       "        text-align: right;\n",
       "    }\n",
       "</style>\n",
       "<table border=\"1\" class=\"dataframe\">\n",
       "  <thead>\n",
       "    <tr style=\"text-align: right;\">\n",
       "      <th></th>\n",
       "      <th>Número OS</th>\n",
       "      <th>Denominação OS</th>\n",
       "      <th>Ativo</th>\n",
       "      <th>Descrição Ativo</th>\n",
       "      <th>Estado OS</th>\n",
       "      <th>Denominação Estado OS</th>\n",
       "      <th>Classe de Trabalho</th>\n",
       "      <th>Descrição Classe de Trabalho</th>\n",
       "      <th>Atividade</th>\n",
       "      <th>Descrição Atividade</th>\n",
       "      <th>...</th>\n",
       "      <th>Previsão 1º Atend.</th>\n",
       "      <th>Roteiro</th>\n",
       "      <th>Descrição Roteiro</th>\n",
       "      <th>Data Início Trabalho</th>\n",
       "      <th>Data Final Trabalho</th>\n",
       "      <th>Tempo Trabalho Feedback M.Obra</th>\n",
       "      <th>Tempo Trabalho Convertido</th>\n",
       "      <th>Técnico</th>\n",
       "      <th>nome_tecn</th>\n",
       "      <th>Tempo Previsto</th>\n",
       "    </tr>\n",
       "  </thead>\n",
       "  <tbody>\n",
       "    <tr>\n",
       "      <th>0</th>\n",
       "      <td>0</td>\n",
       "      <td>DDS (DIÁLOGO DIÁRIO DE SEGURANÇA)</td>\n",
       "      <td>HMBHPA1SSSRE03</td>\n",
       "      <td>SALA DE REUNIÃO VIVANTE</td>\n",
       "      <td>FC</td>\n",
       "      <td>Fechada</td>\n",
       "      <td>TRT</td>\n",
       "      <td>TREINAMENTO</td>\n",
       "      <td>TRT</td>\n",
       "      <td>TREINAMENTOS</td>\n",
       "      <td>...</td>\n",
       "      <td>2020-04-23 19:30:00</td>\n",
       "      <td>NaN</td>\n",
       "      <td>NaN</td>\n",
       "      <td>2020-04-23 19:31:00</td>\n",
       "      <td>2020-04-23 20:00:00</td>\n",
       "      <td>0.483333</td>\n",
       "      <td>00:29:00</td>\n",
       "      <td>VB221378</td>\n",
       "      <td>LEONARDO DO NASCIMENTO COSTA</td>\n",
       "      <td>3.0</td>\n",
       "    </tr>\n",
       "    <tr>\n",
       "      <th>1</th>\n",
       "      <td>204472</td>\n",
       "      <td>TREINAMENTO SEMESTRAL (QGBT'S - OPERAÇÃO E MAN...</td>\n",
       "      <td>HMEB-ELE.T004</td>\n",
       "      <td>TREINAMENTO SEMESTRAL (QGBT'S - OPERAÇÃO E MAN...</td>\n",
       "      <td>FC</td>\n",
       "      <td>Fechada</td>\n",
       "      <td>PRS</td>\n",
       "      <td>PREVENTIVA SISTEMÁTICA</td>\n",
       "      <td>TRT</td>\n",
       "      <td>TREINAMENTOS</td>\n",
       "      <td>...</td>\n",
       "      <td>2019-07-01 06:00:00</td>\n",
       "      <td>ELE.T004.06</td>\n",
       "      <td>TREINAMENTO SEMESTRAL (QGBT'S - OPERAÇÃO E MAN...</td>\n",
       "      <td>2020-01-01 06:00:00</td>\n",
       "      <td>2020-01-01 06:01:00</td>\n",
       "      <td>0.016667</td>\n",
       "      <td>00:01:00</td>\n",
       "      <td>VB225518</td>\n",
       "      <td>LUCAS LIMA RAMOS</td>\n",
       "      <td>NaN</td>\n",
       "    </tr>\n",
       "    <tr>\n",
       "      <th>2</th>\n",
       "      <td>215523</td>\n",
       "      <td>PIA VAZANDO</td>\n",
       "      <td>HMBHPA1PVWC014</td>\n",
       "      <td>SANITÁRIO FEMININO SALA DE AULA 01</td>\n",
       "      <td>FC</td>\n",
       "      <td>Fechada</td>\n",
       "      <td>COR</td>\n",
       "      <td>CORRETIVA EMERGÊNCIAL</td>\n",
       "      <td>HIDR</td>\n",
       "      <td>HIDRAULICA</td>\n",
       "      <td>...</td>\n",
       "      <td>2020-01-22 14:16:00</td>\n",
       "      <td>NaN</td>\n",
       "      <td>NaN</td>\n",
       "      <td>2020-01-22 13:52:00</td>\n",
       "      <td>2020-01-22 14:07:00</td>\n",
       "      <td>0.250000</td>\n",
       "      <td>00:15:00</td>\n",
       "      <td>vb104104</td>\n",
       "      <td>JOSELUCIO ROSA DE ANDRADE</td>\n",
       "      <td>3.0</td>\n",
       "    </tr>\n",
       "    <tr>\n",
       "      <th>3</th>\n",
       "      <td>215749</td>\n",
       "      <td>VERIFICAR EQUIPAMENTO</td>\n",
       "      <td>HMBHPA3PVCME01</td>\n",
       "      <td>ARSENAL CME</td>\n",
       "      <td>FC</td>\n",
       "      <td>Fechada</td>\n",
       "      <td>COR</td>\n",
       "      <td>CORRETIVA EMERGÊNCIAL</td>\n",
       "      <td>ENCL</td>\n",
       "      <td>ENGENHARIA CLÍNICA</td>\n",
       "      <td>...</td>\n",
       "      <td>2020-01-25 12:37:00</td>\n",
       "      <td>NaN</td>\n",
       "      <td>NaN</td>\n",
       "      <td>2020-01-25 10:46:00</td>\n",
       "      <td>2020-01-25 11:30:00</td>\n",
       "      <td>0.733333</td>\n",
       "      <td>00:44:00</td>\n",
       "      <td>VB220999</td>\n",
       "      <td>IVOMAR ROSSI CRUZ</td>\n",
       "      <td>3.0</td>\n",
       "    </tr>\n",
       "    <tr>\n",
       "      <th>4</th>\n",
       "      <td>247489</td>\n",
       "      <td>INTERVENÇAO CRITICA ENGENHARIA CLINICA ANUAL C...</td>\n",
       "      <td>1E01</td>\n",
       "      <td>ESFIGMOMANOMETRO DE PEDESTAL - 608902-N/A</td>\n",
       "      <td>FC</td>\n",
       "      <td>Fechada</td>\n",
       "      <td>PRS</td>\n",
       "      <td>PREVENTIVA SISTEMÁTICA</td>\n",
       "      <td>ENCL</td>\n",
       "      <td>ENGENHARIA CLÍNICA</td>\n",
       "      <td>...</td>\n",
       "      <td>2020-01-01 06:00:00</td>\n",
       "      <td>ICAANCALIB</td>\n",
       "      <td>INTERVENÇAO CRITICA ENGENHARIA CLINICA ANUAL C...</td>\n",
       "      <td>2020-01-06 14:06:00</td>\n",
       "      <td>2020-01-06 14:30:00</td>\n",
       "      <td>0.400000</td>\n",
       "      <td>00:24:00</td>\n",
       "      <td>VB217522</td>\n",
       "      <td>LUDMILA KAREN OLIVEIRA DE PAULA</td>\n",
       "      <td>4.0</td>\n",
       "    </tr>\n",
       "  </tbody>\n",
       "</table>\n",
       "<p>5 rows × 23 columns</p>\n",
       "</div>"
      ],
      "text/plain": [
       "   Número OS                                     Denominação OS  \\\n",
       "0          0                  DDS (DIÁLOGO DIÁRIO DE SEGURANÇA)   \n",
       "1     204472  TREINAMENTO SEMESTRAL (QGBT'S - OPERAÇÃO E MAN...   \n",
       "2     215523                                        PIA VAZANDO   \n",
       "3     215749                              VERIFICAR EQUIPAMENTO   \n",
       "4     247489  INTERVENÇAO CRITICA ENGENHARIA CLINICA ANUAL C...   \n",
       "\n",
       "            Ativo                                    Descrição Ativo  \\\n",
       "0  HMBHPA1SSSRE03                            SALA DE REUNIÃO VIVANTE   \n",
       "1   HMEB-ELE.T004  TREINAMENTO SEMESTRAL (QGBT'S - OPERAÇÃO E MAN...   \n",
       "2  HMBHPA1PVWC014                 SANITÁRIO FEMININO SALA DE AULA 01   \n",
       "3  HMBHPA3PVCME01                                        ARSENAL CME   \n",
       "4            1E01          ESFIGMOMANOMETRO DE PEDESTAL - 608902-N/A   \n",
       "\n",
       "  Estado OS Denominação Estado OS Classe de Trabalho  \\\n",
       "0        FC               Fechada                TRT   \n",
       "1        FC               Fechada                PRS   \n",
       "2        FC               Fechada                COR   \n",
       "3        FC               Fechada                COR   \n",
       "4        FC               Fechada                PRS   \n",
       "\n",
       "  Descrição Classe de Trabalho Atividade Descrição Atividade  ...  \\\n",
       "0                  TREINAMENTO       TRT        TREINAMENTOS  ...   \n",
       "1       PREVENTIVA SISTEMÁTICA       TRT        TREINAMENTOS  ...   \n",
       "2        CORRETIVA EMERGÊNCIAL      HIDR          HIDRAULICA  ...   \n",
       "3        CORRETIVA EMERGÊNCIAL      ENCL  ENGENHARIA CLÍNICA  ...   \n",
       "4       PREVENTIVA SISTEMÁTICA      ENCL  ENGENHARIA CLÍNICA  ...   \n",
       "\n",
       "   Previsão 1º Atend.      Roteiro  \\\n",
       "0 2020-04-23 19:30:00          NaN   \n",
       "1 2019-07-01 06:00:00  ELE.T004.06   \n",
       "2 2020-01-22 14:16:00          NaN   \n",
       "3 2020-01-25 12:37:00          NaN   \n",
       "4 2020-01-01 06:00:00   ICAANCALIB   \n",
       "\n",
       "                                   Descrição Roteiro Data Início Trabalho  \\\n",
       "0                                                NaN  2020-04-23 19:31:00   \n",
       "1  TREINAMENTO SEMESTRAL (QGBT'S - OPERAÇÃO E MAN...  2020-01-01 06:00:00   \n",
       "2                                                NaN  2020-01-22 13:52:00   \n",
       "3                                                NaN  2020-01-25 10:46:00   \n",
       "4  INTERVENÇAO CRITICA ENGENHARIA CLINICA ANUAL C...  2020-01-06 14:06:00   \n",
       "\n",
       "  Data Final Trabalho Tempo Trabalho Feedback M.Obra  \\\n",
       "0 2020-04-23 20:00:00                       0.483333   \n",
       "1 2020-01-01 06:01:00                       0.016667   \n",
       "2 2020-01-22 14:07:00                       0.250000   \n",
       "3 2020-01-25 11:30:00                       0.733333   \n",
       "4 2020-01-06 14:30:00                       0.400000   \n",
       "\n",
       "  Tempo Trabalho Convertido   Técnico                        nome_tecn  \\\n",
       "0                  00:29:00  VB221378     LEONARDO DO NASCIMENTO COSTA   \n",
       "1                  00:01:00  VB225518                 LUCAS LIMA RAMOS   \n",
       "2                  00:15:00  vb104104        JOSELUCIO ROSA DE ANDRADE   \n",
       "3                  00:44:00  VB220999                IVOMAR ROSSI CRUZ   \n",
       "4                  00:24:00  VB217522  LUDMILA KAREN OLIVEIRA DE PAULA   \n",
       "\n",
       "  Tempo Previsto  \n",
       "0            3.0  \n",
       "1            NaN  \n",
       "2            3.0  \n",
       "3            3.0  \n",
       "4            4.0  \n",
       "\n",
       "[5 rows x 23 columns]"
      ]
     },
     "execution_count": 2,
     "metadata": {},
     "output_type": "execute_result"
    }
   ],
   "source": [
    "#Leitura do dataset .csv\n",
    "\n",
    "#Lembrar que a origem da dataset é uma variável.\n",
    "#Neste caso é proveniente da pasta de datasets do Github: https://github.com/fiapIA/bootcamp/dataset\n",
    "dataset = pd.read_excel('dataset/VIVANTE_DATASET_PIVOTADO_V1.xlsx')\n",
    "\n",
    "\n",
    "#Visualização das 5 primeiras linhas do dataset\n",
    "dataset.head(5)"
   ]
  },
  {
   "cell_type": "code",
   "execution_count": 3,
   "metadata": {},
   "outputs": [
    {
     "data": {
      "text/plain": [
       "(34106, 23)"
      ]
     },
     "execution_count": 3,
     "metadata": {},
     "output_type": "execute_result"
    }
   ],
   "source": [
    "# Analisando o tamanho do dataset\n",
    "dataset.shape"
   ]
  },
  {
   "cell_type": "code",
   "execution_count": 4,
   "metadata": {},
   "outputs": [
    {
     "name": "stdout",
     "output_type": "stream",
     "text": [
      "<class 'pandas.core.frame.DataFrame'>\n",
      "RangeIndex: 34106 entries, 0 to 34105\n",
      "Data columns (total 23 columns):\n",
      " #   Column                          Non-Null Count  Dtype         \n",
      "---  ------                          --------------  -----         \n",
      " 0   Número OS                       34106 non-null  int64         \n",
      " 1   Denominação OS                  34106 non-null  object        \n",
      " 2   Ativo                           34106 non-null  object        \n",
      " 3   Descrição Ativo                 34106 non-null  object        \n",
      " 4   Estado OS                       34106 non-null  object        \n",
      " 5   Denominação Estado OS           34106 non-null  object        \n",
      " 6   Classe de Trabalho              34106 non-null  object        \n",
      " 7   Descrição Classe de Trabalho    34106 non-null  object        \n",
      " 8   Atividade                       34106 non-null  object        \n",
      " 9   Descrição Atividade             34106 non-null  object        \n",
      " 10  Data da Criação                 34106 non-null  datetime64[ns]\n",
      " 11  Data/Hora Abertura              34106 non-null  datetime64[ns]\n",
      " 12  Data/Hora de Conclusão          33586 non-null  datetime64[ns]\n",
      " 13  Previsão 1º Atend.              34099 non-null  datetime64[ns]\n",
      " 14  Roteiro                         18696 non-null  object        \n",
      " 15  Descrição Roteiro               18696 non-null  object        \n",
      " 16  Data Início Trabalho            33616 non-null  datetime64[ns]\n",
      " 17  Data Final Trabalho             33616 non-null  datetime64[ns]\n",
      " 18  Tempo Trabalho Feedback M.Obra  33616 non-null  float64       \n",
      " 19  Tempo Trabalho Convertido       34106 non-null  object        \n",
      " 20  Técnico                         33616 non-null  object        \n",
      " 21  nome_tecn                       32971 non-null  object        \n",
      " 22  Tempo Previsto                  33289 non-null  float64       \n",
      "dtypes: datetime64[ns](6), float64(2), int64(1), object(14)\n",
      "memory usage: 6.0+ MB\n"
     ]
    }
   ],
   "source": [
    "# Visão geral dos dados (com DataType)\n",
    "dataset.info()"
   ]
  },
  {
   "cell_type": "markdown",
   "metadata": {},
   "source": [
    "## É possível verificar que temos várias colunas do tipo 'object'. Algumas, de acordo com o dicionário disponibilizado são categóricos. Vamos analisar o nome_tecn (Nome do Técnico) e a Descrição Classe de Trabalho."
   ]
  },
  {
   "cell_type": "code",
   "execution_count": 5,
   "metadata": {},
   "outputs": [
    {
     "data": {
      "text/plain": [
       "nome_tecn\n",
       "ADENILSON MOREIRA VAZ                      438\n",
       "AILSON LIMA DOS SANTOS                     195\n",
       "ALEXANDRE ANTONIO DOS REIS                 294\n",
       "ALEXSANDRO DA COSTA                       1613\n",
       "ANDERSON NASÁRO DA SILVA                    56\n",
       "ANTONIO LOPES DA SILVA                     462\n",
       "ANTONIO LUIZ DA ROCHA                     1069\n",
       "AVELINO PEREIRA DE MORAIS                  172\n",
       "CAIO CESAR WENCESLAU                       760\n",
       "CARLOS ANTONIO                             740\n",
       "CEZAR LUCAS SILVA DE OLIVEIRA             1199\n",
       "DAVID BRENO BRAGA                          400\n",
       "DENER SILVEIRA RODRIGUES                   324\n",
       "EDER EDUARDO FERREIRA                      654\n",
       "EDINALDO VIANA                             164\n",
       "ELIZEU DOS SANTOS JUNIOR                   835\n",
       "EULER ANDRADE                              649\n",
       "EXPEDITO SILVA CAMPOS JUNIOR              1070\n",
       "FILIPE HENRIQUE DOS SANTOS                 145\n",
       "GILSON CLAUDIO DA SILVA                    735\n",
       "HUGO LEONARDO DE SANTANA                   425\n",
       "ISAQUE BRUNO FLORA DA SILVA                248\n",
       "ITALO LINEU SILVEIRA RODRIGUES             136\n",
       "IVOMAR ROSSI CRUZ                          535\n",
       "JESSICA DANIELLY DE CARVALHO               860\n",
       "JOAO BOSCO RODRIGUES                       273\n",
       "JOSE ANTONIO DE LIMA                       156\n",
       "JOSE MARIA GONÇALVES FILHO                 130\n",
       "JOSELUCIO ROSA DE ANDRADE                 1153\n",
       "JOSÉ CARLOS SILVA                           58\n",
       "JOSÉ JACKSON CAVALCANTE JACINTO           1013\n",
       "JOYCE DE FRANÇA FONSECA                     18\n",
       "JOZIAS FERREIA DE ARRUDA                   352\n",
       "LEONARDO DE OLIVEIRA BESSA                 264\n",
       "LEONARDO DO NASCIMENTO COSTA               977\n",
       "LEONARDO GONÇALVES DE ALMEIDA              789\n",
       "LUCAS LIMA RAMOS                          1248\n",
       "LUDMILA KAREN OLIVEIRA DE PAULA           1091\n",
       "MARCILIO OLIVEIRA DA ROCHA                 913\n",
       "MARCIO ROBERTO DO ESPIRITO SANTO          1194\n",
       "MARISTELA PAOLA DUARTE                     116\n",
       "MATHEUS FILIPE BRAGA MEDEIROS             1198\n",
       "MAYGSON MYLLER MOREIRA                     953\n",
       "MISSIA COELHO PAZ                           32\n",
       "MOISES FRANCISCO DE SOUZA                  105\n",
       "PABLO ARAUJO ROCHA                          26\n",
       "PEDRO HENRIQUE SANTOS SILVA                355\n",
       "RAFAEL MENDES ALVES CAIXETA                751\n",
       "RAFAEL TANCREDO MACHADO                     22\n",
       "REGINALDO LOURENCO RIBEIRO                1306\n",
       "SEBASTIÃO MARCELINO DE JESUS                78\n",
       "SERGIO PEREIRA DA SILVA                    494\n",
       "TIAGO VANDERLEY TEIXEIRA                   416\n",
       "TITO MAURICIO DE OLIVEIRA                  996\n",
       "VALDOMIRO DOS SANTOS GOMES                 588\n",
       "VALERIA ROSA DE SOUZA                      532\n",
       "WALLYSON GUILHERME RIBEIRO  DA FONSECA      10\n",
       "WANDERSON SILVA MEIRA                      235\n",
       "WEDERSON FERREIRA DE BRITO                 862\n",
       "WERMESON ALMEIDA BIAZINI                    89\n",
       "Name: nome_tecn, dtype: int64"
      ]
     },
     "execution_count": 5,
     "metadata": {},
     "output_type": "execute_result"
    }
   ],
   "source": [
    "#Agrupando os valores dessa coluna, para entender se são categóricos.\n",
    "\n",
    "dataset.groupby(['nome_tecn'])['nome_tecn'].count()"
   ]
  },
  {
   "cell_type": "code",
   "execution_count": 6,
   "metadata": {},
   "outputs": [
    {
     "data": {
      "text/plain": [
       "Descrição Classe de Trabalho\n",
       "ATENDIMENTO DE SOLICITAÇÕES      531\n",
       "CHAMADO                            6\n",
       "CORRETIVA EMERGÊNCIAL           9707\n",
       "CORRETIVA PROGRAMADA            2306\n",
       "INSTALAÇÃO                         1\n",
       "OBRA                              83\n",
       "PREVENTIVA PROATIVA                8\n",
       "PREVENTIVA SISTEMÁTICA         12789\n",
       "ROTINA DE INSPEÇÃO              6178\n",
       "TREINAMENTO                     2497\n",
       "Name: Descrição Classe de Trabalho, dtype: int64"
      ]
     },
     "execution_count": 6,
     "metadata": {},
     "output_type": "execute_result"
    }
   ],
   "source": [
    "dataset.groupby(['Descrição Classe de Trabalho'])['Descrição Classe de Trabalho'].count()"
   ]
  },
  {
   "cell_type": "code",
   "execution_count": 7,
   "metadata": {},
   "outputs": [
    {
     "data": {
      "text/plain": [
       "Número OS                             0\n",
       "Denominação OS                        0\n",
       "Ativo                                 0\n",
       "Descrição Ativo                       0\n",
       "Estado OS                             0\n",
       "Denominação Estado OS                 0\n",
       "Classe de Trabalho                    0\n",
       "Descrição Classe de Trabalho          0\n",
       "Atividade                             0\n",
       "Descrição Atividade                   0\n",
       "Data da Criação                       0\n",
       "Data/Hora Abertura                    0\n",
       "Data/Hora de Conclusão              520\n",
       "Previsão 1º Atend.                    7\n",
       "Roteiro                           15410\n",
       "Descrição Roteiro                 15410\n",
       "Data Início Trabalho                490\n",
       "Data Final Trabalho                 490\n",
       "Tempo Trabalho Feedback M.Obra      490\n",
       "Tempo Trabalho Convertido             0\n",
       "Técnico                             490\n",
       "nome_tecn                          1135\n",
       "Tempo Previsto                      817\n",
       "dtype: int64"
      ]
     },
     "execution_count": 7,
     "metadata": {},
     "output_type": "execute_result"
    }
   ],
   "source": [
    "# Verificação de dados nulos\n",
    "dataset.isnull().sum()"
   ]
  },
  {
   "cell_type": "markdown",
   "metadata": {},
   "source": [
    "### Existem muitos Roteiros de Trabalho em branco, com concentração em Corretivas Emergenciais, então precisamos entender se uma melhoria pode estar voltada para essa classe de trabalho. O que podemos fazer é excluir essa coluna da análise."
   ]
  },
  {
   "cell_type": "code",
   "execution_count": 8,
   "metadata": {},
   "outputs": [],
   "source": [
    "# Algumas colunas são redundantes, pois trazem a descrição e o código, então vamos retirar o que é dicionário\n",
    "#Usando a descrição fica mais fácil de entender\n",
    "\n",
    "# Removendo colunas que não precisamos usar:\n",
    "\n",
    "\n",
    "try:\n",
    "    dataset.drop(columns=['Número OS','Denominação OS','Estado OS',\n",
    "                          'Classe de Trabalho', 'Atividade', 'Previsão 1º Atend.',\n",
    "                          'Roteiro', 'Descrição Roteiro', 'Técnico'], inplace=True)\n",
    "except:\n",
    "    print('Colunas já removidas')\n",
    "        "
   ]
  },
  {
   "cell_type": "code",
   "execution_count": 9,
   "metadata": {},
   "outputs": [
    {
     "data": {
      "text/plain": [
       "Ativo                                0\n",
       "Descrição Ativo                      0\n",
       "Denominação Estado OS                0\n",
       "Descrição Classe de Trabalho         0\n",
       "Descrição Atividade                  0\n",
       "Data da Criação                      0\n",
       "Data/Hora Abertura                   0\n",
       "Data/Hora de Conclusão             520\n",
       "Data Início Trabalho               490\n",
       "Data Final Trabalho                490\n",
       "Tempo Trabalho Feedback M.Obra     490\n",
       "Tempo Trabalho Convertido            0\n",
       "nome_tecn                         1135\n",
       "Tempo Previsto                     817\n",
       "dtype: int64"
      ]
     },
     "execution_count": 9,
     "metadata": {},
     "output_type": "execute_result"
    }
   ],
   "source": [
    "# Verificação de dados nulos\n",
    "dataset.isnull().sum()"
   ]
  },
  {
   "cell_type": "code",
   "execution_count": 10,
   "metadata": {
    "colab": {},
    "colab_type": "code",
    "id": "juAbhwDFzAsf"
   },
   "outputs": [],
   "source": [
    "# Removendo dados nulos\n",
    "\n",
    "dataset.dropna(inplace=True)"
   ]
  },
  {
   "cell_type": "code",
   "execution_count": 11,
   "metadata": {},
   "outputs": [
    {
     "data": {
      "text/plain": [
       "Ativo                             0\n",
       "Descrição Ativo                   0\n",
       "Denominação Estado OS             0\n",
       "Descrição Classe de Trabalho      0\n",
       "Descrição Atividade               0\n",
       "Data da Criação                   0\n",
       "Data/Hora Abertura                0\n",
       "Data/Hora de Conclusão            0\n",
       "Data Início Trabalho              0\n",
       "Data Final Trabalho               0\n",
       "Tempo Trabalho Feedback M.Obra    0\n",
       "Tempo Trabalho Convertido         0\n",
       "nome_tecn                         0\n",
       "Tempo Previsto                    0\n",
       "dtype: int64"
      ]
     },
     "execution_count": 11,
     "metadata": {},
     "output_type": "execute_result"
    }
   ],
   "source": [
    "# Verificação de dados nulos novamente, para certificar\n",
    "dataset.isnull().sum()"
   ]
  },
  {
   "cell_type": "code",
   "execution_count": 12,
   "metadata": {},
   "outputs": [
    {
     "name": "stdout",
     "output_type": "stream",
     "text": [
      "<class 'pandas.core.frame.DataFrame'>\n",
      "Int64Index: 32748 entries, 0 to 34104\n",
      "Data columns (total 14 columns):\n",
      " #   Column                          Non-Null Count  Dtype         \n",
      "---  ------                          --------------  -----         \n",
      " 0   Ativo                           32748 non-null  object        \n",
      " 1   Descrição Ativo                 32748 non-null  object        \n",
      " 2   Denominação Estado OS           32748 non-null  object        \n",
      " 3   Descrição Classe de Trabalho    32748 non-null  object        \n",
      " 4   Descrição Atividade             32748 non-null  object        \n",
      " 5   Data da Criação                 32748 non-null  datetime64[ns]\n",
      " 6   Data/Hora Abertura              32748 non-null  datetime64[ns]\n",
      " 7   Data/Hora de Conclusão          32748 non-null  datetime64[ns]\n",
      " 8   Data Início Trabalho            32748 non-null  datetime64[ns]\n",
      " 9   Data Final Trabalho             32748 non-null  datetime64[ns]\n",
      " 10  Tempo Trabalho Feedback M.Obra  32748 non-null  float64       \n",
      " 11  Tempo Trabalho Convertido       32748 non-null  object        \n",
      " 12  nome_tecn                       32748 non-null  object        \n",
      " 13  Tempo Previsto                  32748 non-null  float64       \n",
      "dtypes: datetime64[ns](5), float64(2), object(7)\n",
      "memory usage: 3.7+ MB\n"
     ]
    }
   ],
   "source": [
    "# Visão geral dos dados (com DataType) novamente\n",
    "\n",
    "dataset.info()"
   ]
  },
  {
   "cell_type": "code",
   "execution_count": 13,
   "metadata": {},
   "outputs": [],
   "source": [
    "# Vamos renomear algumas colunas para ficar mais fácil trabalhar no pandas\n",
    "\n",
    "try:\n",
    "    dataset.rename(columns = {'Descrição Ativo': 'Desc_Ativo',\n",
    "                          'Denominação Estado OS': 'Estado_OS',\n",
    "                          'Descrição Classe de Trabalho' : 'Classe_trabalho',\n",
    "                          'Descrição Atividade' : 'Atividade',\n",
    "                          'Data da Criação' : 'Data_criada',\n",
    "                          'Data/Hora Abertura': 'Data_abertura',\n",
    "                          'Data/Hora de Conclusão' : 'Data_conclusao',\n",
    "                          'Data Início Trabalho' : 'Data_inicio',\n",
    "                          'Data Final Trabalho': 'Data_fim',\n",
    "                          'Tempo Trabalho Feedback M.Obra' : 'Tempo_trab_num',\n",
    "                          'Tempo Trabalho Convertido': 'Tempo_trab_h',\n",
    "                          'Tempo Previsto':'Tempo_previsto'}, inplace = True)\n",
    "    \n",
    "except:\n",
    "    print('Colunas já renomeadas')"
   ]
  },
  {
   "cell_type": "code",
   "execution_count": 14,
   "metadata": {},
   "outputs": [
    {
     "name": "stdout",
     "output_type": "stream",
     "text": [
      "<class 'pandas.core.frame.DataFrame'>\n",
      "Int64Index: 32748 entries, 0 to 34104\n",
      "Data columns (total 14 columns):\n",
      " #   Column           Non-Null Count  Dtype         \n",
      "---  ------           --------------  -----         \n",
      " 0   Ativo            32748 non-null  object        \n",
      " 1   Desc_Ativo       32748 non-null  object        \n",
      " 2   Estado_OS        32748 non-null  object        \n",
      " 3   Classe_trabalho  32748 non-null  object        \n",
      " 4   Atividade        32748 non-null  object        \n",
      " 5   Data_criada      32748 non-null  datetime64[ns]\n",
      " 6   Data_abertura    32748 non-null  datetime64[ns]\n",
      " 7   Data_conclusao   32748 non-null  datetime64[ns]\n",
      " 8   Data_inicio      32748 non-null  datetime64[ns]\n",
      " 9   Data_fim         32748 non-null  datetime64[ns]\n",
      " 10  Tempo_trab_num   32748 non-null  float64       \n",
      " 11  Tempo_trab_h     32748 non-null  object        \n",
      " 12  nome_tecn        32748 non-null  object        \n",
      " 13  Tempo_previsto   32748 non-null  float64       \n",
      "dtypes: datetime64[ns](5), float64(2), object(7)\n",
      "memory usage: 3.7+ MB\n"
     ]
    }
   ],
   "source": [
    "# Visão geral dos dados (com DataType) novamente\n",
    "\n",
    "dataset.info()"
   ]
  },
  {
   "cell_type": "code",
   "execution_count": 15,
   "metadata": {},
   "outputs": [
    {
     "data": {
      "text/plain": [
       "Desc_Ativo\n",
       "SALA DE REUNIÃO VIVANTE         2051\n",
       "CASA DE BOMBAS                   692\n",
       "ÁREA COMUM                       666\n",
       "COZINHA - LAVAGEM DE PANELAS     612\n",
       "CASA DE BOILER                   583\n",
       "AREA COMUM - ANEXO B             562\n",
       "TANQUE DE DIESEL                 553\n",
       "SALA NOBREAK NORTE               552\n",
       "OFICINA ENGENHARIA CLÍNICA       472\n",
       "CABINE DE TRANSFORMAÇÃO          432\n",
       "TAN-O²                           298\n",
       "FARMACIA ESTOQUE BRUTO           265\n",
       "UDC                              235\n",
       "MONITOR MULTIPARÂMETRO           234\n",
       "AVC                              209\n",
       "AREA COMUM - 1°SS                188\n",
       "CTI 6                            188\n",
       "VENTILADOR PULMONAR              182\n",
       "SALA DE EQUIPAMENTOS CTI 4       176\n",
       "MONITOR MULTIPARAMETRO           164\n",
       "BLOCO CIRURGICO CORREDOR         163\n",
       "5º ALA SUL                       162\n",
       "CTI 5                            160\n",
       "AREA COMUM - TERREO              154\n",
       "AREA COMUM - PILOTS              148\n",
       "AREA COMUM - 3°SS                145\n",
       "SALA DE EQUIPAMENTOS CTI 1       138\n",
       "CARDIOVERSOR                     135\n",
       "CTI 7                            132\n",
       "SALA DE EQUIPAMENTOS CTI 2       131\n",
       "Name: Desc_Ativo, dtype: int64"
      ]
     },
     "execution_count": 15,
     "metadata": {},
     "output_type": "execute_result"
    }
   ],
   "source": [
    "# Analisando a quantidade de atendimentos por ativo - TOP 30\n",
    "\n",
    "dataset.groupby('Desc_Ativo')['Desc_Ativo'].count().nlargest(30)"
   ]
  },
  {
   "cell_type": "code",
   "execution_count": 16,
   "metadata": {},
   "outputs": [
    {
     "name": "stdout",
     "output_type": "stream",
     "text": [
      "Temos 3373 ativos monitorados ou para realizar manutenção no Dataset.\n"
     ]
    }
   ],
   "source": [
    "# Analisando quantos ativos temos no dataset\n",
    "\n",
    "#dataset.loc[dataset['Ativo']].agg(['nunique','count','size'])\n",
    "\n",
    "num_ativos = dataset['Ativo'].nunique()\n",
    "\n",
    "print ('Temos' , num_ativos, 'ativos monitorados ou para realizar manutenção no Dataset.')"
   ]
  },
  {
   "cell_type": "code",
   "execution_count": 17,
   "metadata": {},
   "outputs": [
    {
     "data": {
      "text/plain": [
       "Desc_Ativo\n",
       "SALA DE REUNIÃO VIVANTE                   1117.000000\n",
       "JARDIM                                     861.783333\n",
       "ÁREA COMUM                                 536.833333\n",
       "TAN-O²                                     411.983333\n",
       "OFICINA ENGENHARIA CLÍNICA                 381.450000\n",
       "CASA DE BOMBAS                             364.433333\n",
       "CASA DE BOILER                             315.716667\n",
       "AREA COMUM - 1°SS                          297.100000\n",
       "AREA COMUM - 3°SS                          242.216667\n",
       "AREA COMUM - PILOTS                        236.250000\n",
       "SALA NOBREAK NORTE                         213.533333\n",
       "AREA COMUM - ANEXO B                       212.833333\n",
       "TANQUE DE DIESEL                           194.166667\n",
       "UDC                                        183.450000\n",
       "COZINHA - LAVAGEM DE PANELAS               182.600000\n",
       "CABINE DE TRANSFORMAÇÃO                    170.683333\n",
       "FARMACIA ESTOQUE BRUTO                     169.783333\n",
       "VESTIARIO FEMININO ACESSO FUNCIONÁRIOS     148.233333\n",
       "MONITOR MULTIPARÂMETRO                     144.533333\n",
       "BLOCO CIRURGICO CORREDOR                   134.950000\n",
       "VENTILADOR PULMONAR                        133.116667\n",
       "AVC                                        127.683333\n",
       "5º ALA SUL                                 121.066667\n",
       "AREA COMUM - TERREO                        118.700000\n",
       "SALA DE EQUIPAMENTOS CTI 4                 116.083333\n",
       "CTI 6                                      114.933333\n",
       "ALMOXARIFADO FARMACIA                      114.116667\n",
       "CTI 5                                      104.950000\n",
       "MONITOR MULTIPARAMETRO                     104.833333\n",
       "CAMA FAWLER ELETRICA                       103.883333\n",
       "Name: Tempo_trab_num, dtype: float64"
      ]
     },
     "execution_count": 17,
     "metadata": {},
     "output_type": "execute_result"
    }
   ],
   "source": [
    "# Analisando a somatória de tempo de manutenção por Ativo - TOP 30\n",
    "\n",
    "dataset.groupby('Desc_Ativo')['Tempo_trab_num'].sum().nlargest(30)\n",
    "\n",
    "#dataset.groupby('Ativo')['Tempo_trab_num'].sum().nlargest(20)"
   ]
  },
  {
   "cell_type": "code",
   "execution_count": 18,
   "metadata": {},
   "outputs": [
    {
     "data": {
      "text/plain": [
       "Classe_trabalho\n",
       "PREVENTIVA SISTEMÁTICA         12780\n",
       "CORRETIVA EMERGÊNCIAL           9577\n",
       "ROTINA DE INSPEÇÃO              6129\n",
       "TREINAMENTO                     2484\n",
       "CORRETIVA PROGRAMADA            1680\n",
       "OBRA                              83\n",
       "PREVENTIVA PROATIVA                8\n",
       "CHAMADO                            4\n",
       "ATENDIMENTO DE SOLICITAÇÕES        2\n",
       "INSTALAÇÃO                         1\n",
       "Name: Classe_trabalho, dtype: int64"
      ]
     },
     "execution_count": 18,
     "metadata": {},
     "output_type": "execute_result"
    }
   ],
   "source": [
    "# Analisando a quantidade de atendimentos por ativo - TOP 30\n",
    "\n",
    "dataset.groupby('Classe_trabalho')['Classe_trabalho'].count().nlargest(30)"
   ]
  },
  {
   "cell_type": "code",
   "execution_count": 19,
   "metadata": {},
   "outputs": [
    {
     "data": {
      "text/plain": [
       "Classe_trabalho\n",
       "PREVENTIVA SISTEMÁTICA         7654.900000\n",
       "CORRETIVA EMERGÊNCIAL          6980.366667\n",
       "ROTINA DE INSPEÇÃO             3254.550000\n",
       "CORRETIVA PROGRAMADA           2524.766667\n",
       "TREINAMENTO                    1363.950000\n",
       "OBRA                            197.250000\n",
       "PREVENTIVA PROATIVA              10.216667\n",
       "ATENDIMENTO DE SOLICITAÇÕES       0.850000\n",
       "INSTALAÇÃO                        0.816667\n",
       "CHAMADO                           0.466667\n",
       "Name: Tempo_trab_num, dtype: float64"
      ]
     },
     "execution_count": 19,
     "metadata": {},
     "output_type": "execute_result"
    }
   ],
   "source": [
    "# Analisando a somatória de tempo de manutenção por Classe de Trabalho - TOP 30\n",
    "\n",
    "dataset.groupby('Classe_trabalho')['Tempo_trab_num'].sum().nlargest(30)"
   ]
  },
  {
   "cell_type": "markdown",
   "metadata": {
    "colab_type": "text",
    "id": "F7OVcaZIcdeJ"
   },
   "source": [
    "## Convertendo Dados Categóricos em Numéricos"
   ]
  },
  {
   "cell_type": "code",
   "execution_count": 41,
   "metadata": {},
   "outputs": [
    {
     "data": {
      "text/html": [
       "<div>\n",
       "<style scoped>\n",
       "    .dataframe tbody tr th:only-of-type {\n",
       "        vertical-align: middle;\n",
       "    }\n",
       "\n",
       "    .dataframe tbody tr th {\n",
       "        vertical-align: top;\n",
       "    }\n",
       "\n",
       "    .dataframe thead th {\n",
       "        text-align: right;\n",
       "    }\n",
       "</style>\n",
       "<table border=\"1\" class=\"dataframe\">\n",
       "  <thead>\n",
       "    <tr style=\"text-align: right;\">\n",
       "      <th></th>\n",
       "      <th>Número OS</th>\n",
       "      <th>Denominação OS</th>\n",
       "      <th>Ativo</th>\n",
       "      <th>Descrição Ativo</th>\n",
       "      <th>Denominação Estado OS</th>\n",
       "      <th>Classe_trabalho</th>\n",
       "      <th>Descrição Atividade</th>\n",
       "      <th>Data da Criação</th>\n",
       "      <th>Data/Hora Abertura</th>\n",
       "      <th>Data/Hora de Conclusão</th>\n",
       "      <th>Previsão 1º Atend.</th>\n",
       "      <th>Data Início Trabalho</th>\n",
       "      <th>Data Final Trabalho</th>\n",
       "      <th>Tempo Trabalho Feedback M.Obra</th>\n",
       "      <th>Tempo Trabalho Convertido</th>\n",
       "      <th>nome_tecn</th>\n",
       "      <th>Tempo Previsto</th>\n",
       "    </tr>\n",
       "  </thead>\n",
       "  <tbody>\n",
       "    <tr>\n",
       "      <th>0</th>\n",
       "      <td>0</td>\n",
       "      <td>DDS (DIÁLOGO DIÁRIO DE SEGURANÇA)</td>\n",
       "      <td>HMBHPA1SSSRE03</td>\n",
       "      <td>SALA DE REUNIÃO VIVANTE</td>\n",
       "      <td>Fechada</td>\n",
       "      <td>9</td>\n",
       "      <td>TREINAMENTOS</td>\n",
       "      <td>2020-04-24 15:19:53.987</td>\n",
       "      <td>2020-04-23 19:00:00</td>\n",
       "      <td>2020-04-23 20:00:00</td>\n",
       "      <td>2020-04-23 19:30:00</td>\n",
       "      <td>2020-04-23 19:31:00</td>\n",
       "      <td>2020-04-23 20:00:00</td>\n",
       "      <td>0.483333</td>\n",
       "      <td>00:29:00</td>\n",
       "      <td>LEONARDO DO NASCIMENTO COSTA</td>\n",
       "      <td>3.0</td>\n",
       "    </tr>\n",
       "    <tr>\n",
       "      <th>2</th>\n",
       "      <td>215523</td>\n",
       "      <td>PIA VAZANDO</td>\n",
       "      <td>HMBHPA1PVWC014</td>\n",
       "      <td>SANITÁRIO FEMININO SALA DE AULA 01</td>\n",
       "      <td>Fechada</td>\n",
       "      <td>2</td>\n",
       "      <td>HIDRAULICA</td>\n",
       "      <td>2020-01-22 13:50:40.510</td>\n",
       "      <td>2020-01-22 13:46:00</td>\n",
       "      <td>2020-01-22 14:07:00</td>\n",
       "      <td>2020-01-22 14:16:00</td>\n",
       "      <td>2020-01-22 13:52:00</td>\n",
       "      <td>2020-01-22 14:07:00</td>\n",
       "      <td>0.250000</td>\n",
       "      <td>00:15:00</td>\n",
       "      <td>JOSELUCIO ROSA DE ANDRADE</td>\n",
       "      <td>3.0</td>\n",
       "    </tr>\n",
       "    <tr>\n",
       "      <th>3</th>\n",
       "      <td>215749</td>\n",
       "      <td>VERIFICAR EQUIPAMENTO</td>\n",
       "      <td>HMBHPA3PVCME01</td>\n",
       "      <td>ARSENAL CME</td>\n",
       "      <td>Fechada</td>\n",
       "      <td>2</td>\n",
       "      <td>ENGENHARIA CLÍNICA</td>\n",
       "      <td>2020-01-25 09:39:44.573</td>\n",
       "      <td>2020-01-25 09:37:00</td>\n",
       "      <td>2020-01-25 11:30:00</td>\n",
       "      <td>2020-01-25 12:37:00</td>\n",
       "      <td>2020-01-25 10:46:00</td>\n",
       "      <td>2020-01-25 11:30:00</td>\n",
       "      <td>0.733333</td>\n",
       "      <td>00:44:00</td>\n",
       "      <td>IVOMAR ROSSI CRUZ</td>\n",
       "      <td>3.0</td>\n",
       "    </tr>\n",
       "    <tr>\n",
       "      <th>4</th>\n",
       "      <td>247489</td>\n",
       "      <td>INTERVENÇAO CRITICA ENGENHARIA CLINICA ANUAL C...</td>\n",
       "      <td>1E01</td>\n",
       "      <td>ESFIGMOMANOMETRO DE PEDESTAL - 608902-N/A</td>\n",
       "      <td>Fechada</td>\n",
       "      <td>7</td>\n",
       "      <td>ENGENHARIA CLÍNICA</td>\n",
       "      <td>2019-12-26 14:01:22.877</td>\n",
       "      <td>2020-01-01 06:00:00</td>\n",
       "      <td>2020-01-06 14:30:00</td>\n",
       "      <td>2020-01-01 06:00:00</td>\n",
       "      <td>2020-01-06 14:06:00</td>\n",
       "      <td>2020-01-06 14:30:00</td>\n",
       "      <td>0.400000</td>\n",
       "      <td>00:24:00</td>\n",
       "      <td>LUDMILA KAREN OLIVEIRA DE PAULA</td>\n",
       "      <td>4.0</td>\n",
       "    </tr>\n",
       "    <tr>\n",
       "      <th>5</th>\n",
       "      <td>247490</td>\n",
       "      <td>PREVENTIVA DE ENGENHARIA CLINICA  SEMESTRAL - ...</td>\n",
       "      <td>1E01</td>\n",
       "      <td>ESFIGMOMANOMETRO DE PEDESTAL - 608902-N/A</td>\n",
       "      <td>Fechada</td>\n",
       "      <td>7</td>\n",
       "      <td>ENGENHARIA CLÍNICA</td>\n",
       "      <td>2019-12-26 14:01:23.113</td>\n",
       "      <td>2020-01-01 06:00:00</td>\n",
       "      <td>2020-01-12 09:35:00</td>\n",
       "      <td>2020-01-01 06:00:00</td>\n",
       "      <td>2020-01-12 08:51:00</td>\n",
       "      <td>2020-01-12 09:35:00</td>\n",
       "      <td>0.733333</td>\n",
       "      <td>00:44:00</td>\n",
       "      <td>LUDMILA KAREN OLIVEIRA DE PAULA</td>\n",
       "      <td>1.0</td>\n",
       "    </tr>\n",
       "  </tbody>\n",
       "</table>\n",
       "</div>"
      ],
      "text/plain": [
       "   Número OS                                     Denominação OS  \\\n",
       "0          0                  DDS (DIÁLOGO DIÁRIO DE SEGURANÇA)   \n",
       "2     215523                                        PIA VAZANDO   \n",
       "3     215749                              VERIFICAR EQUIPAMENTO   \n",
       "4     247489  INTERVENÇAO CRITICA ENGENHARIA CLINICA ANUAL C...   \n",
       "5     247490  PREVENTIVA DE ENGENHARIA CLINICA  SEMESTRAL - ...   \n",
       "\n",
       "            Ativo                            Descrição Ativo  \\\n",
       "0  HMBHPA1SSSRE03                    SALA DE REUNIÃO VIVANTE   \n",
       "2  HMBHPA1PVWC014         SANITÁRIO FEMININO SALA DE AULA 01   \n",
       "3  HMBHPA3PVCME01                                ARSENAL CME   \n",
       "4            1E01  ESFIGMOMANOMETRO DE PEDESTAL - 608902-N/A   \n",
       "5            1E01  ESFIGMOMANOMETRO DE PEDESTAL - 608902-N/A   \n",
       "\n",
       "  Denominação Estado OS  Classe_trabalho Descrição Atividade  \\\n",
       "0               Fechada                9        TREINAMENTOS   \n",
       "2               Fechada                2          HIDRAULICA   \n",
       "3               Fechada                2  ENGENHARIA CLÍNICA   \n",
       "4               Fechada                7  ENGENHARIA CLÍNICA   \n",
       "5               Fechada                7  ENGENHARIA CLÍNICA   \n",
       "\n",
       "          Data da Criação  Data/Hora Abertura Data/Hora de Conclusão  \\\n",
       "0 2020-04-24 15:19:53.987 2020-04-23 19:00:00    2020-04-23 20:00:00   \n",
       "2 2020-01-22 13:50:40.510 2020-01-22 13:46:00    2020-01-22 14:07:00   \n",
       "3 2020-01-25 09:39:44.573 2020-01-25 09:37:00    2020-01-25 11:30:00   \n",
       "4 2019-12-26 14:01:22.877 2020-01-01 06:00:00    2020-01-06 14:30:00   \n",
       "5 2019-12-26 14:01:23.113 2020-01-01 06:00:00    2020-01-12 09:35:00   \n",
       "\n",
       "   Previsão 1º Atend. Data Início Trabalho Data Final Trabalho  \\\n",
       "0 2020-04-23 19:30:00  2020-04-23 19:31:00 2020-04-23 20:00:00   \n",
       "2 2020-01-22 14:16:00  2020-01-22 13:52:00 2020-01-22 14:07:00   \n",
       "3 2020-01-25 12:37:00  2020-01-25 10:46:00 2020-01-25 11:30:00   \n",
       "4 2020-01-01 06:00:00  2020-01-06 14:06:00 2020-01-06 14:30:00   \n",
       "5 2020-01-01 06:00:00  2020-01-12 08:51:00 2020-01-12 09:35:00   \n",
       "\n",
       "   Tempo Trabalho Feedback M.Obra Tempo Trabalho Convertido  \\\n",
       "0                        0.483333                  00:29:00   \n",
       "2                        0.250000                  00:15:00   \n",
       "3                        0.733333                  00:44:00   \n",
       "4                        0.400000                  00:24:00   \n",
       "5                        0.733333                  00:44:00   \n",
       "\n",
       "                         nome_tecn  Tempo Previsto  \n",
       "0     LEONARDO DO NASCIMENTO COSTA             3.0  \n",
       "2        JOSELUCIO ROSA DE ANDRADE             3.0  \n",
       "3                IVOMAR ROSSI CRUZ             3.0  \n",
       "4  LUDMILA KAREN OLIVEIRA DE PAULA             4.0  \n",
       "5  LUDMILA KAREN OLIVEIRA DE PAULA             1.0  "
      ]
     },
     "execution_count": 41,
     "metadata": {},
     "output_type": "execute_result"
    }
   ],
   "source": [
    "#Agora convertendo a classe de trabalho em números.\n",
    "\n",
    "dataset['Classe_trabalho'] = pd.Categorical(dataset.Classe_trabalho).codes\n",
    "\n",
    "dataset.head()"
   ]
  },
  {
   "cell_type": "markdown",
   "metadata": {
    "colab_type": "text",
    "id": "TLu-lwmGGqeY"
   },
   "source": [
    "# Fazendo a Clusterização"
   ]
  },
  {
   "cell_type": "markdown",
   "metadata": {
    "colab_type": "text",
    "id": "xjrk8EqSHC7G"
   },
   "source": [
    "## Modelo K-Means"
   ]
  },
  {
   "cell_type": "markdown",
   "metadata": {
    "colab_type": "text",
    "id": "Xu-t0rD-GV2F"
   },
   "source": [
    "### Normalizando os dados"
   ]
  },
  {
   "cell_type": "code",
   "execution_count": null,
   "metadata": {
    "colab": {},
    "colab_type": "code",
    "id": "Ly9dq4PW1Dpt"
   },
   "outputs": [],
   "source": [
    "df_normalizacao = StandardScaler().fit_transform(dataset.iloc[:,:8])\n",
    "df_cluster = StandardScaler().fit_transform(df_normalizacao)"
   ]
  },
  {
   "cell_type": "code",
   "execution_count": null,
   "metadata": {
    "colab": {
     "base_uri": "https://localhost:8080/",
     "height": 238
    },
    "colab_type": "code",
    "id": "RZTVGa_f9wuq",
    "outputId": "dfa3a6ea-7cb2-4425-fe5c-aaab8dd25895"
   },
   "outputs": [],
   "source": [
    "df_cluster"
   ]
  },
  {
   "cell_type": "markdown",
   "metadata": {
    "colab_type": "text",
    "id": "9LWi7AxIGdbq"
   },
   "source": [
    "### Redução de dimensionalidade com PCA"
   ]
  },
  {
   "cell_type": "code",
   "execution_count": null,
   "metadata": {
    "colab": {},
    "colab_type": "code",
    "id": "_-m6neVR2CwN"
   },
   "outputs": [],
   "source": [
    "pca = PCA(n_components=2)\n",
    "\n",
    "PComponents = pca.fit_transform(df_cluster)\n",
    "\n",
    "#principalComponents.index = df_cluster.index\n",
    "\n",
    "maindataset = pd.DataFrame(data = PComponents,\n",
    "                           columns = ['PComp1', 'PComp2'])"
   ]
  },
  {
   "cell_type": "code",
   "execution_count": null,
   "metadata": {
    "colab": {
     "base_uri": "https://localhost:8080/",
     "height": 419
    },
    "colab_type": "code",
    "id": "AWMibKTw3E43",
    "outputId": "4c1f916b-2a17-4e79-eb30-2f57b97b2770"
   },
   "outputs": [],
   "source": [
    "maindataset.head()"
   ]
  },
  {
   "cell_type": "markdown",
   "metadata": {
    "colab_type": "text",
    "id": "5qD71T63GxYo"
   },
   "source": [
    "### Aplicação do Método Elbow para identificar a quantidade de clusters a ser utilizado"
   ]
  },
  {
   "cell_type": "code",
   "execution_count": null,
   "metadata": {
    "colab": {},
    "colab_type": "code",
    "id": "r2WbMBfE2Ytf"
   },
   "outputs": [],
   "source": [
    "inertias =[]\n",
    "for i in range(1, 30):\n",
    "    kmeans = KMeans(n_clusters = i, max_iter=500).fit(maindataset)    \n",
    "    #somatório dos erros quadráticos das instâncias de cada cluster\n",
    "    inertias.append(kmeans.inertia_)"
   ]
  },
  {
   "cell_type": "code",
   "execution_count": null,
   "metadata": {
    "colab": {
     "base_uri": "https://localhost:8080/",
     "height": 295
    },
    "colab_type": "code",
    "id": "VM6Ol6Td5KfN",
    "outputId": "e82ae42f-9163-4055-d4a8-f4e69934ec3f"
   },
   "outputs": [],
   "source": [
    "# Platando o método Elbow, para analisar o cotovelo e número de clusters\n",
    "\n",
    "plt.figure(1)\n",
    "plt.plot(range(1, 30), inertias)\n",
    "plt.title('Método Elbow')\n",
    "plt.xlabel('No de clusters')\n",
    "plt.ylabel('Soma Erro Quadrático')\n",
    "plt.show()"
   ]
  },
  {
   "cell_type": "markdown",
   "metadata": {},
   "source": [
    "## Esse método não foi possível analisar de forma direta o cotovelo na curva, indicando um score mais baixo e possivelmente não sendo o melhor modelo."
   ]
  },
  {
   "cell_type": "markdown",
   "metadata": {
    "colab_type": "text",
    "id": "7n2aCc5gHVcR"
   },
   "source": [
    "### Dessa forma, vamos usar o modelo K-Means"
   ]
  },
  {
   "cell_type": "code",
   "execution_count": null,
   "metadata": {
    "colab": {},
    "colab_type": "code",
    "id": "lNpVic6F3bY0"
   },
   "outputs": [],
   "source": [
    "# Clusterização com Kmeans\n",
    "\n",
    "kmeans = KMeans(n_clusters=5)\n",
    "kmeans.fit(maindataset)"
   ]
  },
  {
   "cell_type": "markdown",
   "metadata": {
    "colab_type": "text",
    "id": "36zY8wc5Hspu"
   },
   "source": [
    "### Agora incluímos o ID do Cluster no Dataset"
   ]
  },
  {
   "cell_type": "code",
   "execution_count": null,
   "metadata": {
    "colab": {},
    "colab_type": "code",
    "id": "CNaE1ss33eJS"
   },
   "outputs": [],
   "source": [
    "# Inclusão de ID no dataset\n",
    "\n",
    "maindataset['clusters'] = kmeans.labels_\n"
   ]
  },
  {
   "cell_type": "markdown",
   "metadata": {
    "colab_type": "text",
    "id": "CSGRIOJNHj38"
   },
   "source": [
    "### Plot dos dados (PCA) e os clusters identificados"
   ]
  },
  {
   "cell_type": "code",
   "execution_count": null,
   "metadata": {
    "colab": {
     "base_uri": "https://localhost:8080/",
     "height": 281
    },
    "colab_type": "code",
    "id": "XCc9JdBM3gDE",
    "outputId": "3536fa00-a575-4005-e85b-a8ac6073ec03"
   },
   "outputs": [],
   "source": [
    "fig, ax = plt.subplots()\n",
    "plt.scatter(maindataset['PComp1'],maindataset['PComp2'],c=maindataset.clusters, s=80)\n",
    "plt.scatter(kmeans.cluster_centers_[:,0],kmeans.cluster_centers_[:,1],s=100,c='black',label=\"Centroids\",marker='+')\n",
    "plt.title(\"K-Means - 4 clusters\")\n",
    "ax.legend()\n",
    "ax.grid(True)\n",
    "plt.show()"
   ]
  },
  {
   "cell_type": "code",
   "execution_count": null,
   "metadata": {
    "colab": {
     "base_uri": "https://localhost:8080/",
     "height": 419
    },
    "colab_type": "code",
    "id": "cTIPiz7JZtsG",
    "outputId": "592df19a-7cfd-4ef7-dcb6-8b7e104fa13d"
   },
   "outputs": [],
   "source": [
    "# Inclusão de ID no dataset original, para definição de alvo\n",
    "\n",
    "dataset['cluster'] = kmeans.labels_\n",
    "\n",
    "dataset.head()"
   ]
  },
  {
   "cell_type": "code",
   "execution_count": null,
   "metadata": {
    "colab": {},
    "colab_type": "code",
    "id": "xNvAJpkpmA7s"
   },
   "outputs": [],
   "source": [
    "dataset.groupby(['cluster'])['cluster'].count()"
   ]
  },
  {
   "cell_type": "markdown",
   "metadata": {
    "colab_type": "text",
    "id": "Qzv-xSygnMUz"
   },
   "source": [
    "### Há um cluster que tem volume muito pequeno de dados comparado aos demais (cluster 3)"
   ]
  },
  {
   "cell_type": "markdown",
   "metadata": {
    "colab_type": "text",
    "id": "NXndArsFc4u5"
   },
   "source": [
    "# Classificação"
   ]
  },
  {
   "cell_type": "markdown",
   "metadata": {
    "colab_type": "text",
    "id": "Wvg7CslHZ722"
   },
   "source": [
    "## Determinação de Features"
   ]
  },
  {
   "cell_type": "code",
   "execution_count": null,
   "metadata": {
    "colab": {
     "base_uri": "https://localhost:8080/",
     "height": 419
    },
    "colab_type": "code",
    "id": "Ci4btto_Z56w",
    "outputId": "372d1e85-1fe2-4b2b-80b8-be844221f6ed"
   },
   "outputs": [],
   "source": [
    "X = dataset.iloc[:,0:10]\n",
    "X"
   ]
  },
  {
   "cell_type": "markdown",
   "metadata": {
    "colab_type": "text",
    "id": "OkTufGAyalAf"
   },
   "source": [
    "## Determinação da variável Target"
   ]
  },
  {
   "cell_type": "code",
   "execution_count": null,
   "metadata": {
    "colab": {
     "base_uri": "https://localhost:8080/",
     "height": 221
    },
    "colab_type": "code",
    "id": "IzwGP660ammE",
    "outputId": "43ea5797-a080-4611-b580-4b56d245bfc8"
   },
   "outputs": [],
   "source": [
    "y = dataset['cluster']\n",
    "y.head(10)"
   ]
  },
  {
   "cell_type": "markdown",
   "metadata": {
    "colab_type": "text",
    "id": "wBAegEl0c6bd"
   },
   "source": [
    "## Definição da base de teste e de treino"
   ]
  },
  {
   "cell_type": "code",
   "execution_count": null,
   "metadata": {
    "colab": {},
    "colab_type": "code",
    "id": "JkVap5Qssvc_"
   },
   "outputs": [],
   "source": [
    "X_train, X_test, y_train, y_test = train_test_split(X, y, test_size= .3, random_state=42)"
   ]
  },
  {
   "cell_type": "markdown",
   "metadata": {
    "colab_type": "text",
    "id": "woU_9dSbdB_R"
   },
   "source": [
    "## Modelo de Árvore de Decisão "
   ]
  },
  {
   "cell_type": "code",
   "execution_count": null,
   "metadata": {
    "colab": {},
    "colab_type": "code",
    "id": "b5Al11GNwbZE"
   },
   "outputs": [],
   "source": [
    "model_tree = DecisionTreeClassifier(max_depth=7)\n",
    "model_tree.fit(X_train, y_train)\n",
    "y_pred_tree = model_tree.predict(X_test)"
   ]
  },
  {
   "cell_type": "markdown",
   "metadata": {
    "colab_type": "text",
    "id": "q2lI4cZydFan"
   },
   "source": [
    "### Resultado na plotagem de Matriz de Confusão"
   ]
  },
  {
   "cell_type": "code",
   "execution_count": null,
   "metadata": {
    "colab": {
     "base_uri": "https://localhost:8080/",
     "height": 500
    },
    "colab_type": "code",
    "id": "vrk4iJEQbwdb",
    "outputId": "59e3faaa-79d7-4ccb-ba7a-dc7e3b7dc511"
   },
   "outputs": [],
   "source": [
    "plot_confusion_matrix(model_tree, X_test, y_test, normalize = 'true')\n",
    "\n",
    "print(classification_report(y_test, y_pred_tree))\n",
    "print(accuracy_score(y_test, y_pred_tree))\n"
   ]
  },
  {
   "cell_type": "markdown",
   "metadata": {
    "colab_type": "text",
    "id": "8SzH51madIx5"
   },
   "source": [
    "## Plot da Árvore de decisão"
   ]
  },
  {
   "cell_type": "code",
   "execution_count": null,
   "metadata": {},
   "outputs": [],
   "source": [
    "import os\n",
    "os.environ['PATH'].split(os.pathsep)\n",
    "os.environ['PATH'] += os.pathsep + 'C:\\\\Program Files (x86)\\\\Graphviz2.38\\\\bin'\n",
    "\n",
    "\n",
    "display(\n",
    "    graphviz.Source(export_graphviz(\n",
    "        model_tree, \n",
    "        feature_names=dataset.columns.values[0:10],  \n",
    "        filled=True)))"
   ]
  },
  {
   "cell_type": "markdown",
   "metadata": {},
   "source": [
    "## Resultado não foi interessante, pois a Árvore é extremamente grande e complexa para analisar"
   ]
  },
  {
   "cell_type": "markdown",
   "metadata": {
    "colab_type": "text",
    "id": "kKwTNT4QEbIQ"
   },
   "source": [
    "## Modelo de KNN"
   ]
  },
  {
   "cell_type": "markdown",
   "metadata": {
    "colab_type": "text",
    "id": "z_fqf9rKEs-a"
   },
   "source": [
    "### Encontrando o valor ideal de k"
   ]
  },
  {
   "cell_type": "code",
   "execution_count": null,
   "metadata": {
    "colab": {
     "base_uri": "https://localhost:8080/",
     "height": 333
    },
    "colab_type": "code",
    "id": "jD7ULynAhN25",
    "outputId": "55a76e2e-ce81-439e-bfd3-cbea8cc459af"
   },
   "outputs": [],
   "source": [
    "k_range=range(1,40)\n",
    "scores=[]\n",
    "for k in k_range:\n",
    "    knn = KNeighborsClassifier(n_neighbors=k)\n",
    "    knn.fit(X_train, y_train)\n",
    "    y_pred_knn = knn.predict(X_test)\n",
    "    scores.append(accuracy_score(y_test, y_pred_knn))\n",
    "\n",
    "print(scores)\n",
    "#Plota os valores de acc. em função do valor escolhido de K\n",
    "plt.plot(k_range, scores)\n",
    "plt.xlabel('Value of K for KNN')\n",
    "plt.ylabel('Testing Accuracy')"
   ]
  },
  {
   "cell_type": "markdown",
   "metadata": {
    "colab_type": "text",
    "id": "NLYjR4IzExrd"
   },
   "source": [
    "### Treinando o modelo KNN"
   ]
  },
  {
   "cell_type": "code",
   "execution_count": null,
   "metadata": {
    "colab": {},
    "colab_type": "code",
    "id": "I80uOZpvhG0h"
   },
   "outputs": [],
   "source": [
    "model_KNN = KNeighborsClassifier(n_neighbors=7)\n",
    "\n",
    "model_KNN.fit(X_train, y_train)"
   ]
  },
  {
   "cell_type": "markdown",
   "metadata": {
    "colab_type": "text",
    "id": "UZJgPVGfE8A4"
   },
   "source": [
    "### Testando o modelo criado"
   ]
  },
  {
   "cell_type": "code",
   "execution_count": null,
   "metadata": {
    "colab": {},
    "colab_type": "code",
    "id": "j6ZkqJA-hd-m"
   },
   "outputs": [],
   "source": [
    "y_pred = model_KNN.predict(X_test)"
   ]
  },
  {
   "cell_type": "markdown",
   "metadata": {
    "colab_type": "text",
    "id": "5dyxjUWMFAll"
   },
   "source": [
    " ## Uso da Matriz de Confusão, baseado no modelo KNN"
   ]
  },
  {
   "cell_type": "code",
   "execution_count": null,
   "metadata": {
    "colab": {
     "base_uri": "https://localhost:8080/",
     "height": 500
    },
    "colab_type": "code",
    "id": "BZHy82sMhjes",
    "outputId": "3958f541-5dc4-4fa1-c67e-ba25e443a724"
   },
   "outputs": [],
   "source": [
    "plot_confusion_matrix(model_KNN, X_test, y_test, normalize = 'true')\n",
    "\n",
    "print(classification_report(y_test, y_pred_knn))\n",
    "print(accuracy_score(y_test, y_pred_knn))\n"
   ]
  },
  {
   "cell_type": "markdown",
   "metadata": {
    "colab_type": "text",
    "id": "knb0sX3MyyDi"
   },
   "source": [
    "## Modelo XGBOOST"
   ]
  },
  {
   "cell_type": "markdown",
   "metadata": {
    "colab_type": "text",
    "id": "JbuPIcuwFPCJ"
   },
   "source": [
    "### Treinando o Modelo XGBOOST"
   ]
  },
  {
   "cell_type": "code",
   "execution_count": null,
   "metadata": {
    "colab": {},
    "colab_type": "code",
    "id": "Hy9yOSRf9iYD"
   },
   "outputs": [],
   "source": [
    "model_xgboost = XGBClassifier()\n",
    "\n",
    "model_xgboost.fit(X_train, y_train)"
   ]
  },
  {
   "cell_type": "markdown",
   "metadata": {
    "colab_type": "text",
    "id": "G0OpZ0AWFTZv"
   },
   "source": [
    "### Testando o modelo XGBOOST"
   ]
  },
  {
   "cell_type": "code",
   "execution_count": null,
   "metadata": {
    "colab": {},
    "colab_type": "code",
    "id": "2dpJcwK2BzdR"
   },
   "outputs": [],
   "source": [
    "y_pred_xg = model_xgboost.predict(X_test)"
   ]
  },
  {
   "cell_type": "markdown",
   "metadata": {
    "colab_type": "text",
    "id": "XVT1QCYIFYVo"
   },
   "source": [
    "## Resultado do modelo XGBOOST"
   ]
  },
  {
   "cell_type": "code",
   "execution_count": null,
   "metadata": {
    "colab": {
     "base_uri": "https://localhost:8080/",
     "height": 500
    },
    "colab_type": "code",
    "id": "C2ShkwvHbjCy",
    "outputId": "f91d830a-4e6e-4531-b16a-2e7457e468af"
   },
   "outputs": [],
   "source": [
    "plot_confusion_matrix(model_xgboost, X_test, y_test, normalize = 'true')\n",
    "\n",
    "print(classification_report(y_test, y_pred_xg))\n",
    "print(accuracy_score(y_test, y_pred_xg))\n"
   ]
  },
  {
   "cell_type": "markdown",
   "metadata": {
    "colab_type": "text",
    "id": "ADoDtJW5isMd"
   },
   "source": [
    "## Análise Final Clusterização / Classificação:\n",
    "\n",
    "\n",
    "\n",
    "## Blablá"
   ]
  },
  {
   "cell_type": "markdown",
   "metadata": {
    "colab_type": "text",
    "id": "Up4TF06JyAT0"
   },
   "source": [
    "# Etapa de Regressão, para predição do modelo baseado na coluna V2"
   ]
  },
  {
   "cell_type": "code",
   "execution_count": null,
   "metadata": {
    "colab": {},
    "colab_type": "code",
    "id": "HMLJoWx68Lrb"
   },
   "outputs": [],
   "source": [
    "# Retornando ao nosso dataset\n",
    "\n",
    "dataset.head()"
   ]
  },
  {
   "cell_type": "markdown",
   "metadata": {
    "colab_type": "text",
    "id": "kZlfxF0ldeGv"
   },
   "source": [
    "## Determinação de Features"
   ]
  },
  {
   "cell_type": "code",
   "execution_count": null,
   "metadata": {
    "colab": {},
    "colab_type": "code",
    "id": "Mp0f2RtL69fO"
   },
   "outputs": [],
   "source": [
    "X_reg = dataset.drop(['V2'], axis=1, inplace=False)"
   ]
  },
  {
   "cell_type": "markdown",
   "metadata": {
    "colab_type": "text",
    "id": "jm3L59eVeQDf"
   },
   "source": [
    "## Determinação de Target"
   ]
  },
  {
   "cell_type": "code",
   "execution_count": null,
   "metadata": {
    "colab": {},
    "colab_type": "code",
    "id": "iNHal4ri69T0"
   },
   "outputs": [],
   "source": [
    "y_reg = dataset['V2']"
   ]
  },
  {
   "cell_type": "markdown",
   "metadata": {
    "colab_type": "text",
    "id": "KEycXxREeUCk"
   },
   "source": [
    "## Separação de dados de treino e teste"
   ]
  },
  {
   "cell_type": "code",
   "execution_count": null,
   "metadata": {
    "colab": {},
    "colab_type": "code",
    "id": "BWBI6Jdj1Ln0"
   },
   "outputs": [],
   "source": [
    "X_train_reg, X_test_reg, y_train_reg, y_test_reg = train_test_split(X_reg, y_reg, test_size= .2, random_state=42)"
   ]
  },
  {
   "cell_type": "markdown",
   "metadata": {
    "colab_type": "text",
    "id": "MFmjRtf4ebWR"
   },
   "source": [
    "## Modelo SVR\n",
    "\n",
    "### O modelo SVR necessita de normalização dos dados. Aplicamos em pipeline."
   ]
  },
  {
   "cell_type": "markdown",
   "metadata": {
    "colab_type": "text",
    "id": "y1l6xIKGexK3"
   },
   "source": [
    "### Treinando o modelo SVR"
   ]
  },
  {
   "cell_type": "code",
   "execution_count": null,
   "metadata": {
    "colab": {
     "base_uri": "https://localhost:8080/",
     "height": 153
    },
    "colab_type": "code",
    "id": "_apyOsLLUHtm",
    "outputId": "0ebd1d97-15ed-4ed1-ea15-f0a4255a7d23"
   },
   "outputs": [],
   "source": [
    "model_SVR = make_pipeline(StandardScaler(), SVR())\n",
    "model_SVR.fit(X_train_reg, y_train_reg)"
   ]
  },
  {
   "cell_type": "markdown",
   "metadata": {
    "colab_type": "text",
    "id": "8u12Dei3e22i"
   },
   "source": [
    "### Testando o modelo SVR"
   ]
  },
  {
   "cell_type": "code",
   "execution_count": null,
   "metadata": {
    "colab": {},
    "colab_type": "code",
    "id": "ZklewvZWUsI6"
   },
   "outputs": [],
   "source": [
    "y_pred_svr = model_SVR.predict(X_test_reg)"
   ]
  },
  {
   "cell_type": "markdown",
   "metadata": {
    "colab_type": "text",
    "id": "-vz7IQiYe_lk"
   },
   "source": [
    "## Resultado SVR"
   ]
  },
  {
   "cell_type": "code",
   "execution_count": null,
   "metadata": {
    "colab": {
     "base_uri": "https://localhost:8080/",
     "height": 34
    },
    "colab_type": "code",
    "id": "Shh_Uc_w_9JA",
    "outputId": "8702105f-434b-4647-de69-9503927d9d08"
   },
   "outputs": [],
   "source": [
    "mse_SVR = mean_squared_error(y_test_reg, y_pred_svr)\n",
    "score_svr = model_SVR.score(X_test_reg, y_test_reg)\n",
    "mse = mean_squared_error(y_test_reg, y_pred_svr)\n",
    "print(\"R2:{0:.3f}, MSE:{1:.2f}, RMSE:{2:.2f}\"\n",
    "      .format(score_svr, mse, np.sqrt(mse)))"
   ]
  },
  {
   "cell_type": "markdown",
   "metadata": {
    "colab_type": "text",
    "id": "U_28Xy4IfJgc"
   },
   "source": [
    "## Modelo Regressão Linear"
   ]
  },
  {
   "cell_type": "markdown",
   "metadata": {
    "colab_type": "text",
    "id": "KOuXS7VBfPan"
   },
   "source": [
    "### Treinando o modelo de Regressão Linear"
   ]
  },
  {
   "cell_type": "code",
   "execution_count": null,
   "metadata": {
    "colab": {
     "base_uri": "https://localhost:8080/",
     "height": 34
    },
    "colab_type": "code",
    "id": "E4g9WMCixVWu",
    "outputId": "0a5e7458-365a-4c8e-d688-7d32f84d2d42"
   },
   "outputs": [],
   "source": [
    "model_Linear = LinearRegression()  \n",
    "model_Linear.fit(X_train_reg, y_train_reg) "
   ]
  },
  {
   "cell_type": "markdown",
   "metadata": {
    "colab_type": "text",
    "id": "brdEY62gfXB1"
   },
   "source": [
    "### Testando o modelo de Regressão Linear"
   ]
  },
  {
   "cell_type": "code",
   "execution_count": null,
   "metadata": {
    "colab": {},
    "colab_type": "code",
    "id": "C_S7STHA2Qph"
   },
   "outputs": [],
   "source": [
    "y_pred_Linear = model_Linear.predict(X_test_reg)"
   ]
  },
  {
   "cell_type": "markdown",
   "metadata": {
    "colab_type": "text",
    "id": "BH6csxlzffPb"
   },
   "source": [
    "## Resultado Regressão Linear"
   ]
  },
  {
   "cell_type": "code",
   "execution_count": null,
   "metadata": {
    "colab": {
     "base_uri": "https://localhost:8080/",
     "height": 34
    },
    "colab_type": "code",
    "id": "QqrRiZMk2MlC",
    "outputId": "4008c865-f7ee-4cad-a242-744687435acb"
   },
   "outputs": [],
   "source": [
    "mse_Linear = mean_squared_error(y_test_reg, y_pred_Linear)\n",
    "score_linear = model_Linear.score(X_test_reg, y_test_reg)\n",
    "mse = mean_squared_error(y_test_reg, y_pred_Linear)\n",
    "print(\"Resultado Regressão Linear: R2:{0:.7f}, MSE:{1:.2f}, RMSE:{2:.2f}\"\n",
    "      .format(score_linear, mse, np.sqrt(mse)))"
   ]
  },
  {
   "cell_type": "markdown",
   "metadata": {
    "colab_type": "text",
    "id": "DEicA_oxfj16"
   },
   "source": [
    "## Modelo ElasticNet"
   ]
  },
  {
   "cell_type": "markdown",
   "metadata": {
    "colab_type": "text",
    "id": "EU8QmEJ5gBp1"
   },
   "source": [
    "### Treinando o Modelo ElasticNet"
   ]
  },
  {
   "cell_type": "code",
   "execution_count": null,
   "metadata": {
    "colab": {
     "base_uri": "https://localhost:8080/",
     "height": 122
    },
    "colab_type": "code",
    "id": "j3hgNrBoQdtV",
    "outputId": "330913f3-3f7a-4e41-894a-422aa7a847a5"
   },
   "outputs": [],
   "source": [
    "model_elastic = ElasticNet(alpha=0.0001)\n",
    "model_elastic.fit(X_train_reg, y_train_reg)"
   ]
  },
  {
   "cell_type": "markdown",
   "metadata": {
    "colab_type": "text",
    "id": "JhQZWaNjgK-a"
   },
   "source": [
    "### Testando o modelo ElasticNet"
   ]
  },
  {
   "cell_type": "code",
   "execution_count": null,
   "metadata": {
    "colab": {},
    "colab_type": "code",
    "id": "PK1qJwWqgOkp"
   },
   "outputs": [],
   "source": [
    "y_pred_elastic = model_elastic.predict(X_test_reg)"
   ]
  },
  {
   "cell_type": "markdown",
   "metadata": {
    "colab_type": "text",
    "id": "v3qbiZjaglZj"
   },
   "source": [
    "## Resultado ElasticNet"
   ]
  },
  {
   "cell_type": "code",
   "execution_count": null,
   "metadata": {
    "colab": {
     "base_uri": "https://localhost:8080/",
     "height": 34
    },
    "colab_type": "code",
    "id": "1R0LPAjl9Np3",
    "outputId": "31623afe-eb6a-437e-d848-0eee4819a631"
   },
   "outputs": [],
   "source": [
    "\n",
    "score_elastic = model_elastic.score(X_test_reg, y_test_reg)\n",
    "mse_elastic = mean_squared_error(y_test_reg, y_pred_elastic)\n",
    "print(\"Resultado ElasticNet: R2:{0:.7f}, MSE:{1:.2f}, RMSE:{2:.2f}\"\n",
    "      .format(score_elastic, mse_elastic, np.sqrt(mse_elastic)))"
   ]
  },
  {
   "cell_type": "markdown",
   "metadata": {},
   "source": [
    "## Modelo Regressão Logística"
   ]
  },
  {
   "cell_type": "code",
   "execution_count": null,
   "metadata": {},
   "outputs": [],
   "source": [
    "model_logistic = LogisticRegression(max_iter = 500)\n",
    "model_logistic.fit(X_train_reg, y_train_reg)"
   ]
  },
  {
   "cell_type": "code",
   "execution_count": null,
   "metadata": {},
   "outputs": [],
   "source": [
    "y_pred_reglogistic = model_logistic.predict(X_test_reg)"
   ]
  },
  {
   "cell_type": "code",
   "execution_count": null,
   "metadata": {},
   "outputs": [],
   "source": [
    "score_reglogistic = model_logistic.score(X_test_reg, y_test_reg)\n",
    "mse_reglogistic = mean_squared_error(y_test_reg, y_pred_reglogistic)\n",
    "print(\"Resultado Regressão Logística: R2:{0:.7f}, MSE:{1:.2f}, RMSE:{2:.2f}\"\n",
    "      .format(score_reglogistic, mse_reglogistic, np.sqrt(mse_reglogistic)))"
   ]
  },
  {
   "cell_type": "code",
   "execution_count": null,
   "metadata": {},
   "outputs": [],
   "source": []
  }
 ],
 "metadata": {
  "kernelspec": {
   "display_name": "Python 3",
   "language": "python",
   "name": "python3"
  },
  "language_info": {
   "codemirror_mode": {
    "name": "ipython",
    "version": 3
   },
   "file_extension": ".py",
   "mimetype": "text/x-python",
   "name": "python",
   "nbconvert_exporter": "python",
   "pygments_lexer": "ipython3",
   "version": "3.7.9"
  }
 },
 "nbformat": 4,
 "nbformat_minor": 4
}
