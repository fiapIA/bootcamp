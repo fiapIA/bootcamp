{
 "cells": [
  {
   "cell_type": "markdown",
   "metadata": {},
   "source": [
    "# Bootcamp FIAP - Turma 11IA\n",
    "\n",
    "### Integrantes:\n",
    "\n",
    "###    1) Fabio Rizzi - RM336656\n",
    "###    2) Jurandir Ventura - RM336634\n",
    "###    3) Marcelo Preto - RM336632\n",
    "###    4) Thiago Alexandre – RM336583"
   ]
  },
  {
   "cell_type": "markdown",
   "metadata": {},
   "source": [
    "## Desafio Bootcamp:\n",
    "\n",
    "### Analisar o dataset de atendimentos de manutenção da empresa VIVANTE no Hospital Metropolitano e trazer insights e soluções de Machine Learning ou Deep Learning para convergir com o objetivo da empresa em liderar o mercado de Facilities com tecnologias e conhecimento disruptivos."
   ]
  },
  {
   "cell_type": "code",
   "execution_count": null,
   "metadata": {},
   "outputs": [],
   "source": [
    "#Importando as bibliotecas. Se houver algum erro, use \"pip install Libname\"\n",
    "import pandas as pd\n",
    "import seaborn as sb\n",
    "import numpy as np\n",
    "#import pydotplus\n",
    "#import graphviz\n",
    "from IPython.display import display\n",
    "import matplotlib.pyplot as plt\n",
    "from sklearn.tree import DecisionTreeClassifier\n",
    "from sklearn.model_selection import train_test_split\n",
    "from sklearn.model_selection import GridSearchCV\n",
    "from sklearn.metrics import confusion_matrix\n",
    "#from sklearn.externals.six import StringIO  \n",
    "from sklearn.preprocessing import MinMaxScaler,StandardScaler, OneHotEncoder\n",
    "from sklearn.tree import export_graphviz, plot_tree\n",
    "from sklearn.decomposition import PCA\n",
    "from sklearn.cluster import KMeans\n",
    "from sklearn.neighbors import KNeighborsClassifier\n",
    "from sklearn.metrics import classification_report, plot_confusion_matrix, mean_squared_error, r2_score, accuracy_score\n",
    "from sklearn.svm import SVC\n",
    "from sklearn.linear_model import LinearRegression\n",
    "from sklearn.pipeline import make_pipeline\n",
    "from sklearn.svm import SVR\n",
    "from xgboost import XGBClassifier\n",
    "from sklearn.linear_model import ElasticNet\n",
    "from sklearn.linear_model import LogisticRegression\n",
    "from keras.models import Sequential, Model\n",
    "from keras.layers import Activation, Dense, Dropout, BatchNormalization\n",
    "from keras.callbacks import ModelCheckpoint, EarlyStopping\n",
    "from keras.utils import plot_model\n",
    "import tensorflow as tf\n",
    "import warnings \n",
    "import np_utils\n",
    "warnings.filterwarnings('ignore')\n",
    "warnings.filterwarnings('ignore', category=DeprecationWarning)"
   ]
  },
  {
   "cell_type": "code",
   "execution_count": null,
   "metadata": {
    "tags": []
   },
   "outputs": [],
   "source": [
    "# Preparação do dataset\n",
    "df = pd.read_excel('dataset/VIVANTE_DATASET_PIVOTADO_V1.xlsx')\n",
    "print(\"Shape Original\", df.shape)\n",
    "print(list(df.columns))\n",
    "print(\"\")"
   ]
  },
  {
   "cell_type": "code",
   "execution_count": null,
   "metadata": {
    "tags": []
   },
   "outputs": [],
   "source": [
    "#Removendo linhas com estados inválidos para não estragar o modelo de previsão baseado no histórico de tempo de atividade\n",
    "print(\"Removendo estados não finalizados\")\n",
    "df.drop(df[df['Estado OS'] == \"AB\"].index, inplace=True) # Aberto\n",
    "df.drop(df[df['Estado OS'] == \"CC\"].index, inplace=True) # Cancelado\n",
    "df.drop(df[df['Estado OS'] == \"EX\"].index, inplace=True) # Em Execucao\n",
    "df.drop(df[df['Estado OS'] == \"NE\"].index, inplace=True) # Nao Executado\n",
    "df.drop(df[df['Estado OS'] == \"PR\"].index, inplace=True) # Programada\n",
    "# Removendo linhas de diálogo diário de segurança\n",
    "print(\"Shape1:\", df.shape)\n",
    "df.drop(df[df['Denominação OS'] == \"DDS (DIÁLOGO DIÁRIO DE SEGURANÇA)\"].index, inplace=True)\n",
    "print(\"Shape2:\", df.shape)"
   ]
  },
  {
   "cell_type": "code",
   "execution_count": null,
   "metadata": {
    "tags": []
   },
   "outputs": [],
   "source": [
    "#Removendo colunas desnecessárias\n",
    "df.drop(columns=['Número OS','Descrição Ativo','Estado OS','Denominação OS','Denominação Estado OS',\n",
    "                 'Descrição Classe de Trabalho', 'Descrição Atividade', 'Previsão 1º Atend.',\n",
    "                 'Descrição Roteiro', 'nome_tecn','Tempo Trabalho Convertido','Data da Criação',\n",
    "                 'Data/Hora Abertura', 'Data Início Trabalho', 'Data Final Trabalho',\n",
    "                 'Data/Hora de Conclusão', 'Roteiro'], inplace=True)\n",
    "df.rename(columns={'Tempo Trabalho Feedback M.Obra': 'Tempo_Trabalhado_Real',\n",
    "                    'Denominação OS': 'Denominacao_OS',\n",
    "                    'Classe de Trabalho': 'Classe_Trabalho',\n",
    "                    'Técnico': 'Tecnico',\n",
    "                    'Tempo Previsto': 'Tempo_Previsto'}, inplace=True)\n",
    "print(\"Colunas após removidas as desnecessárias:\")\n",
    "print(list(df.columns))\n",
    "print(\"\")"
   ]
  },
  {
   "cell_type": "code",
   "execution_count": null,
   "metadata": {
    "tags": []
   },
   "outputs": [],
   "source": [
    "# Removendo nulos\n",
    "df.dropna(inplace=True)\n",
    "print(\"Shape removido nulos\", df.shape)\n",
    "print(\"\")"
   ]
  },
  {
   "cell_type": "code",
   "execution_count": null,
   "metadata": {},
   "outputs": [],
   "source": [
    "df.head()"
   ]
  },
  {
   "cell_type": "code",
   "execution_count": null,
   "metadata": {},
   "outputs": [],
   "source": [
    "df = df[['Ativo', 'Atividade', 'Classe_Trabalho', 'Tecnico', 'Tempo_Trabalhado_Real','Tempo_Previsto']]"
   ]
  },
  {
   "cell_type": "code",
   "execution_count": null,
   "metadata": {},
   "outputs": [],
   "source": [
    "df.head()"
   ]
  },
  {
   "cell_type": "code",
   "execution_count": null,
   "metadata": {
    "tags": []
   },
   "outputs": [],
   "source": [
    "print(\"Shape final: \",df.shape)"
   ]
  },
  {
   "cell_type": "code",
   "execution_count": null,
   "metadata": {},
   "outputs": [],
   "source": [
    "# Uppercase em colunas de Texto\n",
    "df['Ativo']=df['Ativo'].apply(lambda x: x.upper())\n",
    "df['Atividade']=df['Classe_Trabalho'].apply(lambda x: x.upper())\n",
    "df['Classe_Trabalho']=df['Classe_Trabalho'].apply(lambda x: x.upper())\n",
    "df['Tecnico']=df['Tecnico'].apply(lambda x: x.upper())"
   ]
  },
  {
   "cell_type": "code",
   "execution_count": null,
   "metadata": {
    "tags": []
   },
   "outputs": [],
   "source": [
    "df.info()"
   ]
  },
  {
   "cell_type": "code",
   "execution_count": null,
   "metadata": {},
   "outputs": [],
   "source": [
    "df.head()"
   ]
  },
  {
   "cell_type": "code",
   "execution_count": null,
   "metadata": {},
   "outputs": [],
   "source": [
    "df_original = df.copy()"
   ]
  },
  {
   "cell_type": "code",
   "execution_count": null,
   "metadata": {},
   "outputs": [],
   "source": [
    "df.drop(columns = ['Tempo_Previsto'], inplace=True)"
   ]
  },
  {
   "cell_type": "code",
   "execution_count": null,
   "metadata": {
    "tags": []
   },
   "outputs": [],
   "source": [
    "df.head()"
   ]
  },
  {
   "source": [
    "- Features: Ativo, Classe_Trabalho, Atividade, Tecnico\n",
    "- Target: Tempo_Trabalhado_Real"
   ],
   "cell_type": "markdown",
   "metadata": {}
  },
  {
   "cell_type": "code",
   "execution_count": null,
   "metadata": {
    "tags": []
   },
   "outputs": [],
   "source": [
    "print(df['Tempo_Trabalhado_Real'].value_counts())\n",
    "print(\"\")\n",
    "print( \"Dataset bastante desbalanceado\")"
   ]
  },
  {
   "cell_type": "code",
   "execution_count": null,
   "metadata": {
    "tags": []
   },
   "outputs": [],
   "source": [
    "value_counts = df['Tempo_Trabalhado_Real'].value_counts()\n",
    "to_remove = value_counts[value_counts < 100].index\n",
    "df = df[~df['Tempo_Trabalhado_Real'].isin(to_remove)]\n",
    "print(df['Tempo_Trabalhado_Real'].value_counts())"
   ]
  },
  {
   "cell_type": "code",
   "execution_count": null,
   "metadata": {},
   "outputs": [],
   "source": [
    "#y = df['Tempo_Trabalhado_Real']\n",
    "#X = df.drop(columns=['Tempo_Trabalhado_Real'])"
   ]
  },
  {
   "cell_type": "code",
   "execution_count": null,
   "metadata": {},
   "outputs": [],
   "source": [
    "scaler = StandardScaler()\n",
    "y = scaler.fit_transform(df[['Tempo_Trabalhado_Real']])"
   ]
  },
  {
   "cell_type": "code",
   "execution_count": null,
   "metadata": {},
   "outputs": [],
   "source": [
    "encoder = OneHotEncoder()\n",
    "X = encoder.fit_transform(df[['Ativo','Atividade','Classe_Trabalho','Tecnico']])"
   ]
  },
  {
   "cell_type": "code",
   "execution_count": null,
   "metadata": {},
   "outputs": [],
   "source": [
    "X_train, X_test, y_train, y_test = train_test_split(X, y, test_size = .2, random_state=42)"
   ]
  },
  {
   "cell_type": "code",
   "execution_count": null,
   "metadata": {
    "tags": []
   },
   "outputs": [],
   "source": [
    "print(\"X:\",X.shape)\n",
    "print(\"Y:\",y.shape)\n",
    "print(\"X_train:\",X_train.shape)\n",
    "print(\"X_test:\",X_test.shape)\n",
    "print(\"y_train:\",y_train.shape)\n",
    "print(\"y_test:\",y_test.shape)"
   ]
  },
  {
   "cell_type": "code",
   "execution_count": null,
   "metadata": {
    "tags": []
   },
   "outputs": [],
   "source": [
    "# modelo sequencial\n",
    "model = Sequential()\n",
    "\n",
    "# Input\n",
    "model.add(Dense(1024, input_dim=X.shape[-1], activation='relu'))\n",
    "\n",
    "# Hidden\n",
    "model.add(BatchNormalization())\n",
    "model.add(Dropout(0.2))\n",
    "\n",
    "model.add(Dense(2048, use_bias=False))\n",
    "model.add(BatchNormalization())\n",
    "model.add(Activation('relu'))\n",
    "model.add(Dropout(0.5))\n",
    "\n",
    "model.add(Dense(2048, use_bias=False))\n",
    "model.add(BatchNormalization())\n",
    "model.add(Activation('relu'))\n",
    "model.add(Dropout(0.5))\n",
    "\n",
    "model.add(Dense(1024, use_bias=False))\n",
    "model.add(BatchNormalization())\n",
    "model.add(Activation('relu'))\n",
    "model.add(Dropout(0.1))\n",
    "\n",
    "# Output\n",
    "model.add(Dense(1, activation='linear'))\n",
    "\n",
    "# Compile\n",
    "model.compile(loss='mean_absolute_error', optimizer='adam', metrics=['mean_absolute_error'])\n",
    "print(model.summary())"
   ]
  },
  {
   "cell_type": "code",
   "execution_count": null,
   "metadata": {
    "tags": []
   },
   "outputs": [],
   "source": [
    "hist = model.fit(X_train, y_train, batch_size=256, epochs=200, verbose=1, shuffle=True)"
   ]
  },
  {
   "cell_type": "code",
   "execution_count": null,
   "metadata": {
    "tags": []
   },
   "outputs": [],
   "source": [
    "scores = model.evaluate(X_test, y_test)\n",
    "print(\"\\n%s: %.2f%%\" % (model.metrics_names[1], scores[1]*100))"
   ]
  },
  {
   "cell_type": "code",
   "execution_count": null,
   "metadata": {},
   "outputs": [],
   "source": [
    "plt.figure(1)\n",
    "plt.plot(hist.history['loss'], 'o-')\n",
    "plt.plot(hist.history['mean_absolute_error'], 'x-')\n",
    "plt.show()"
   ]
  },
  {
   "cell_type": "code",
   "execution_count": null,
   "metadata": {},
   "outputs": [],
   "source": []
  }
 ],
 "metadata": {
  "kernelspec": {
   "name": "python_defaultSpec_1601141300397",
   "display_name": "Python 3.8.5 64-bit ('bootcamp': conda)",
   "metadata": {
    "interpreter": {
     "hash": "dca0ade3e726a953b501b15e8e990130d2b7799f14cfd9f4271676035ebe5511"
    }
   }
  },
  "language_info": {
   "codemirror_mode": {
    "name": "ipython",
    "version": 3
   },
   "file_extension": ".py",
   "mimetype": "text/x-python",
   "name": "python",
   "nbconvert_exporter": "python",
   "pygments_lexer": "ipython3",
   "version": "3.8.5-final"
  }
 },
 "nbformat": 4,
 "nbformat_minor": 4
}